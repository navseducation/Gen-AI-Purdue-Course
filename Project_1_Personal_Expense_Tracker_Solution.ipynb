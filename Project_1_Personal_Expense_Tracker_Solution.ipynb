{
  "cells": [
    {
      "cell_type": "markdown",
      "metadata": {
        "id": "view-in-github",
        "colab_type": "text"
      },
      "source": [
        "<a href=\"https://colab.research.google.com/github/navseducation/Gen-AI-Purdue-Course/blob/main/Project_1_Personal_Expense_Tracker_Solution.ipynb\" target=\"_parent\"><img src=\"https://colab.research.google.com/assets/colab-badge.svg\" alt=\"Open In Colab\"/></a>"
      ]
    },
    {
      "cell_type": "markdown",
      "metadata": {
        "id": "wqtvWeK0G1AF"
      },
      "source": [
        "# Project: Personal Expense Tracker\n",
        "\n",
        "Welcome to the solution for our course-end project! In this notebook, we will build a complete Personal Expense Tracker using all the Python concepts we have learned so far: **functions, lists, dictionaries, loops, conditional statements, and file handling.**\n",
        "\n",
        "**Project Objectives:**\n",
        "1.  Allow users to add and view their daily expenses.\n",
        "2.  Enable users to set a monthly budget and track their spending against it.\n",
        "3.  Save expenses to a file so the data persists even after the program closes.\n",
        "4.  Load expenses from the file when the program starts.\n",
        "5.  Provide a simple, interactive menu for the user."
      ]
    },
    {
      "cell_type": "markdown",
      "metadata": {
        "id": "OHbQVOqxG1AG"
      },
      "source": [
        "## Step 1: Setting up the Environment\n",
        "\n",
        "First, we'll import the `os` library to check if our expense file exists. We'll also define our global variables: the filename for storing expenses and a list to hold the expenses while the program is running."
      ]
    },
    {
      "cell_type": "code",
      "execution_count": 1,
      "metadata": {
        "id": "qTC7t5dzG1AG"
      },
      "outputs": [],
      "source": [
        "import os\n",
        "\n",
        "# Define the file name for storing expenses\n",
        "EXPENSE_FILE = 'expenses.csv'\n",
        "\n",
        "# This list will hold all our expense dictionaries\n",
        "expenses = []"
      ]
    },
    {
      "cell_type": "code",
      "source": [
        "expenses"
      ],
      "metadata": {
        "id": "xhjl7UE7Yp65"
      },
      "execution_count": null,
      "outputs": []
    },
    {
      "cell_type": "markdown",
      "metadata": {
        "id": "tLV1tBtsG1AH"
      },
      "source": [
        "## Step 2: Functions for Saving and Loading Expenses (Simplified)\n",
        "\n",
        "These are the core functions for data persistence. We will use basic file operations to make the code as simple as possible."
      ]
    },
    {
      "cell_type": "code",
      "execution_count": 3,
      "metadata": {
        "id": "8xlyOMnoG1AH"
      },
      "outputs": [],
      "source": [
        "def save_expenses():\n",
        "    \"\"\"Saves the global 'expenses' list to a CSV file.\"\"\"\n",
        "    # 'w' mode opens the file for writing, creating it if it doesn't exist.\n",
        "    with open(EXPENSE_FILE, 'w') as f:\n",
        "        # Write a header row first\n",
        "        f.write(\"date,category,amount,description\\n\")\n",
        "        # Loop through each expense dictionary\n",
        "        for expense in expenses:\n",
        "            # Create a comma-separated string and write it to the file\n",
        "            f.write(f\"{expense['date']},{expense['category']},{expense['amount']},{expense['description']}\\n\")\n",
        "    print(\"Expenses saved successfully!\")\n",
        "\n",
        "def load_expenses():\n",
        "    \"\"\"Loads expenses from a CSV file into the global 'expenses' list.\"\"\"\n",
        "    # Check if the file exists before trying to read it\n",
        "    if not os.path.exists(EXPENSE_FILE):\n",
        "        print(\"No previous expenses found. Starting fresh.\")\n",
        "        return\n",
        "\n",
        "    with open(EXPENSE_FILE, 'r') as f:\n",
        "        lines = f.readlines()\n",
        "        # Start from the second line to skip the header\n",
        "        for line in lines[1:]:\n",
        "            # Split the line into parts and remove any extra whitespace\n",
        "            parts = line.strip().split(',')\n",
        "            # Create the expense dictionary\n",
        "            expense = {\n",
        "                'date': parts[0],\n",
        "                'category': parts[1],\n",
        "                'amount': float(parts[2]),\n",
        "                'description': parts[3]\n",
        "            }\n",
        "            expenses.append(expense)\n",
        "    print(\"Expenses loaded successfully!\")"
      ]
    },
    {
      "cell_type": "markdown",
      "metadata": {
        "id": "tP1kLFGIG1AH"
      },
      "source": [
        "## Step 3: Functions for Core Features (Add, View, Track)\n",
        "\n",
        "Now we'll create the functions that the user will interact with directly."
      ]
    },
    {
      "cell_type": "code",
      "source": [
        "demo = input(\"Enter a number: \")\n",
        "print(\"this number is \" +demo)\n",
        "demo1 = int(input(\"Enter a number: \"))\n",
        "print(\"this number is \" +str(demo1))"
      ],
      "metadata": {
        "colab": {
          "base_uri": "https://localhost:8080/",
          "height": 373
        },
        "id": "lyR4oHDzaRO5",
        "outputId": "9d7e7b24-869a-4fd3-bc04-f20c57e3cdf7"
      },
      "execution_count": 2,
      "outputs": [
        {
          "output_type": "stream",
          "name": "stdout",
          "text": [
            "Enter a number: 5\n",
            "this number is 5\n"
          ]
        },
        {
          "output_type": "error",
          "ename": "KeyboardInterrupt",
          "evalue": "Interrupted by user",
          "traceback": [
            "\u001b[0;31m---------------------------------------------------------------------------\u001b[0m",
            "\u001b[0;31mKeyboardInterrupt\u001b[0m                         Traceback (most recent call last)",
            "\u001b[0;32m/tmp/ipython-input-2-1070401723.py\u001b[0m in \u001b[0;36m<cell line: 0>\u001b[0;34m()\u001b[0m\n\u001b[1;32m      1\u001b[0m \u001b[0mdemo\u001b[0m \u001b[0;34m=\u001b[0m \u001b[0minput\u001b[0m\u001b[0;34m(\u001b[0m\u001b[0;34m\"Enter a number: \"\u001b[0m\u001b[0;34m)\u001b[0m\u001b[0;34m\u001b[0m\u001b[0;34m\u001b[0m\u001b[0m\n\u001b[1;32m      2\u001b[0m \u001b[0mprint\u001b[0m\u001b[0;34m(\u001b[0m\u001b[0;34m\"this number is \"\u001b[0m \u001b[0;34m+\u001b[0m\u001b[0mdemo\u001b[0m\u001b[0;34m)\u001b[0m\u001b[0;34m\u001b[0m\u001b[0;34m\u001b[0m\u001b[0m\n\u001b[0;32m----> 3\u001b[0;31m \u001b[0mdemo1\u001b[0m \u001b[0;34m=\u001b[0m \u001b[0mint\u001b[0m\u001b[0;34m(\u001b[0m\u001b[0minput\u001b[0m\u001b[0;34m(\u001b[0m\u001b[0;34m\"Enter a number: \"\u001b[0m\u001b[0;34m)\u001b[0m\u001b[0;34m)\u001b[0m\u001b[0;34m\u001b[0m\u001b[0;34m\u001b[0m\u001b[0m\n\u001b[0m\u001b[1;32m      4\u001b[0m \u001b[0mprint\u001b[0m\u001b[0;34m(\u001b[0m\u001b[0;34m\"this number is \"\u001b[0m \u001b[0;34m+\u001b[0m\u001b[0mstr\u001b[0m\u001b[0;34m(\u001b[0m\u001b[0mdemo1\u001b[0m\u001b[0;34m)\u001b[0m\u001b[0;34m)\u001b[0m\u001b[0;34m\u001b[0m\u001b[0;34m\u001b[0m\u001b[0m\n",
            "\u001b[0;32m/usr/local/lib/python3.11/dist-packages/ipykernel/kernelbase.py\u001b[0m in \u001b[0;36mraw_input\u001b[0;34m(self, prompt)\u001b[0m\n\u001b[1;32m   1175\u001b[0m                 \u001b[0;34m\"raw_input was called, but this frontend does not support input requests.\"\u001b[0m\u001b[0;34m\u001b[0m\u001b[0;34m\u001b[0m\u001b[0m\n\u001b[1;32m   1176\u001b[0m             )\n\u001b[0;32m-> 1177\u001b[0;31m         return self._input_request(\n\u001b[0m\u001b[1;32m   1178\u001b[0m             \u001b[0mstr\u001b[0m\u001b[0;34m(\u001b[0m\u001b[0mprompt\u001b[0m\u001b[0;34m)\u001b[0m\u001b[0;34m,\u001b[0m\u001b[0;34m\u001b[0m\u001b[0;34m\u001b[0m\u001b[0m\n\u001b[1;32m   1179\u001b[0m             \u001b[0mself\u001b[0m\u001b[0;34m.\u001b[0m\u001b[0m_parent_ident\u001b[0m\u001b[0;34m[\u001b[0m\u001b[0;34m\"shell\"\u001b[0m\u001b[0;34m]\u001b[0m\u001b[0;34m,\u001b[0m\u001b[0;34m\u001b[0m\u001b[0;34m\u001b[0m\u001b[0m\n",
            "\u001b[0;32m/usr/local/lib/python3.11/dist-packages/ipykernel/kernelbase.py\u001b[0m in \u001b[0;36m_input_request\u001b[0;34m(self, prompt, ident, parent, password)\u001b[0m\n\u001b[1;32m   1217\u001b[0m             \u001b[0;32mexcept\u001b[0m \u001b[0mKeyboardInterrupt\u001b[0m\u001b[0;34m:\u001b[0m\u001b[0;34m\u001b[0m\u001b[0;34m\u001b[0m\u001b[0m\n\u001b[1;32m   1218\u001b[0m                 \u001b[0;31m# re-raise KeyboardInterrupt, to truncate traceback\u001b[0m\u001b[0;34m\u001b[0m\u001b[0;34m\u001b[0m\u001b[0m\n\u001b[0;32m-> 1219\u001b[0;31m                 \u001b[0;32mraise\u001b[0m \u001b[0mKeyboardInterrupt\u001b[0m\u001b[0;34m(\u001b[0m\u001b[0;34m\"Interrupted by user\"\u001b[0m\u001b[0;34m)\u001b[0m \u001b[0;32mfrom\u001b[0m \u001b[0;32mNone\u001b[0m\u001b[0;34m\u001b[0m\u001b[0;34m\u001b[0m\u001b[0m\n\u001b[0m\u001b[1;32m   1220\u001b[0m             \u001b[0;32mexcept\u001b[0m \u001b[0mException\u001b[0m\u001b[0;34m:\u001b[0m\u001b[0;34m\u001b[0m\u001b[0;34m\u001b[0m\u001b[0m\n\u001b[1;32m   1221\u001b[0m                 \u001b[0mself\u001b[0m\u001b[0;34m.\u001b[0m\u001b[0mlog\u001b[0m\u001b[0;34m.\u001b[0m\u001b[0mwarning\u001b[0m\u001b[0;34m(\u001b[0m\u001b[0;34m\"Invalid Message:\"\u001b[0m\u001b[0;34m,\u001b[0m \u001b[0mexc_info\u001b[0m\u001b[0;34m=\u001b[0m\u001b[0;32mTrue\u001b[0m\u001b[0;34m)\u001b[0m\u001b[0;34m\u001b[0m\u001b[0;34m\u001b[0m\u001b[0m\n",
            "\u001b[0;31mKeyboardInterrupt\u001b[0m: Interrupted by user"
          ]
        }
      ]
    },
    {
      "cell_type": "code",
      "execution_count": 4,
      "metadata": {
        "id": "Jt_ReZawG1AH"
      },
      "outputs": [],
      "source": [
        "def add_expense():\n",
        "    \"\"\"Prompts the user for expense details and adds it to the list.\"\"\"\n",
        "    print(\"\\n--- Add a New Expense ---\")\n",
        "    date = input(\"Enter the date (YYYY-MM-DD): \")\n",
        "    category = input(\"Enter the category (e.g., Food, Travel): \")\n",
        "    description = input(\"Enter a brief description: \")\n",
        "    amount = float(input(\"Enter the amount: \"))\n",
        "\n",
        "    # Create the expense dictionary\n",
        "    new_expense = {\n",
        "        'date': date,\n",
        "        'category': category,\n",
        "        'amount': amount,\n",
        "        'description': description\n",
        "    }\n",
        "\n",
        "    # Add the new dictionary to our list of expenses\n",
        "    expenses.append(new_expense)\n",
        "    print(\"Expense added successfully!\")\n",
        "\n",
        "def view_expenses():\n",
        "    \"\"\"Displays all the recorded expenses.\"\"\"\n",
        "    print(\"\\n--- All Expenses ---\")\n",
        "    if not expenses: # Check if the list is empty\n",
        "        print(\"No expenses recorded yet.\")\n",
        "        return\n",
        "\n",
        "    # Loop through the list and print each expense\n",
        "    for i, expense in enumerate(expenses):\n",
        "        print(f\"{i+1}. Date: {expense['date']}, Category: {expense['category']}, Amount: ${expense['amount']:.2f}, Desc: {expense['description']}\")\n",
        "\n",
        "def track_budget():\n",
        "    \"\"\"Allows the user to set a budget and see how their spending compares.\"\"\"\n",
        "    print(\"\\n--- Track Your Budget ---\")\n",
        "    monthly_budget = float(input(\"Enter your total monthly budget: \"))\n",
        "\n",
        "    # Calculate total expenses\n",
        "    total_expenses = 0\n",
        "    for expense in expenses:\n",
        "        total_expenses += expense['amount']\n",
        "\n",
        "    print(f\"Total Expenses: ${total_expenses:.2f}\")\n",
        "    print(f\"Monthly Budget: ${monthly_budget:.2f}\")\n",
        "\n",
        "    remaining_balance = monthly_budget - total_expenses\n",
        "\n",
        "    # Use an if-else statement to give the user feedback\n",
        "    if remaining_balance >= 0:\n",
        "        print(f\"You have ${remaining_balance:.2f} left for the month.\")\n",
        "    else:\n",
        "        print(f\"Warning! You have exceeded your budget by ${abs(remaining_balance):.2f}.\")"
      ]
    },
    {
      "cell_type": "code",
      "source": [
        "#tuple"
      ],
      "metadata": {
        "id": "Ey3kYZ4OdxXV"
      },
      "execution_count": null,
      "outputs": []
    },
    {
      "cell_type": "markdown",
      "metadata": {
        "id": "bcYXyi3HG1AI"
      },
      "source": [
        "## Step 4: Creating the Interactive Menu\n",
        "\n",
        "This is the main part of our program. It will display a menu to the user and, based on their input, call the appropriate function. We'll use a `while` loop to keep the menu running until the user decides to exit."
      ]
    },
    {
      "cell_type": "code",
      "execution_count": 5,
      "metadata": {
        "id": "jtroJ5GyG1AI"
      },
      "outputs": [],
      "source": [
        "def main():\n",
        "    \"\"\"The main function that runs the expense tracker program.\"\"\"\n",
        "\n",
        "    # Load any existing expenses from the file when the program starts\n",
        "    load_expenses()\n",
        "\n",
        "    while True: # This creates an infinite loop that keeps the menu running\n",
        "        print(\"\\n--- Personal Expense Tracker ---\")\n",
        "        print(\"1. Add an expense\")\n",
        "        print(\"2. View all expenses\")\n",
        "        print(\"3. Track your budget\")\n",
        "        print(\"4. Save expenses\")\n",
        "        print(\"5. Exit\")\n",
        "\n",
        "        choice = input(\"Enter your choice (1-5): \")\n",
        "\n",
        "        # Use if-elif-else to handle the user's choice\n",
        "        if choice == '1':\n",
        "\n",
        "            add_expense()\n",
        "        elif choice == '2':\n",
        "            view_expenses()\n",
        "        elif choice == '3':\n",
        "            track_budget()\n",
        "        elif choice == '4':\n",
        "            save_expenses()\n",
        "        elif choice == '5':\n",
        "            # Before exiting, it's a good idea to save any unsaved changes\n",
        "            save_expenses()\n",
        "            print(\"Exiting the program. Goodbye!\")\n",
        "            break # This keyword breaks out of the while loop\n",
        "        else:\n",
        "            print(\"Invalid choice. Please enter a number between 1 and 5.\")"
      ]
    },
    {
      "cell_type": "markdown",
      "metadata": {
        "id": "vPbSi55cG1AI"
      },
      "source": [
        "## Step 5: Run the Application\n",
        "\n",
        "The cell below will start the expense tracker. The program will run in a loop until you select option '5' to exit."
      ]
    },
    {
      "cell_type": "code",
      "source": [
        "main()"
      ],
      "metadata": {
        "colab": {
          "base_uri": "https://localhost:8080/",
          "height": 1000
        },
        "id": "WgK9RIoCHCv_",
        "outputId": "e00f5339-f85f-4e4d-ce62-e86d2dc8ce5d"
      },
      "execution_count": 6,
      "outputs": [
        {
          "output_type": "stream",
          "name": "stdout",
          "text": [
            "No previous expenses found. Starting fresh.\n",
            "\n",
            "--- Personal Expense Tracker ---\n",
            "1. Add an expense\n",
            "2. View all expenses\n",
            "3. Track your budget\n",
            "4. Save expenses\n",
            "5. Exit\n",
            "Enter your choice (1-5): 1\n",
            "\n",
            "--- Add a New Expense ---\n",
            "Enter the date (YYYY-MM-DD): 2025-07-25\n",
            "Enter the category (e.g., Food, Travel): Food\n",
            "Enter a brief description: Restaraunt\n",
            "Enter the amount: 50\n",
            "Expense added successfully!\n",
            "\n",
            "--- Personal Expense Tracker ---\n",
            "1. Add an expense\n",
            "2. View all expenses\n",
            "3. Track your budget\n",
            "4. Save expenses\n",
            "5. Exit\n",
            "Enter your choice (1-5): 2\n",
            "\n",
            "--- All Expenses ---\n",
            "1. Date: 2025-07-25, Category: Food, Amount: $50.00, Desc: Restaraunt\n",
            "\n",
            "--- Personal Expense Tracker ---\n",
            "1. Add an expense\n",
            "2. View all expenses\n",
            "3. Track your budget\n",
            "4. Save expenses\n",
            "5. Exit\n",
            "Enter your choice (1-5): 2\n",
            "\n",
            "--- All Expenses ---\n",
            "1. Date: 2025-07-25, Category: Food, Amount: $50.00, Desc: Restaraunt\n",
            "\n",
            "--- Personal Expense Tracker ---\n",
            "1. Add an expense\n",
            "2. View all expenses\n",
            "3. Track your budget\n",
            "4. Save expenses\n",
            "5. Exit\n"
          ]
        },
        {
          "output_type": "error",
          "ename": "KeyboardInterrupt",
          "evalue": "Interrupted by user",
          "traceback": [
            "\u001b[0;31m---------------------------------------------------------------------------\u001b[0m",
            "\u001b[0;31mKeyboardInterrupt\u001b[0m                         Traceback (most recent call last)",
            "\u001b[0;32m/tmp/ipython-input-6-451043146.py\u001b[0m in \u001b[0;36m<cell line: 0>\u001b[0;34m()\u001b[0m\n\u001b[0;32m----> 1\u001b[0;31m \u001b[0mmain\u001b[0m\u001b[0;34m(\u001b[0m\u001b[0;34m)\u001b[0m\u001b[0;34m\u001b[0m\u001b[0;34m\u001b[0m\u001b[0m\n\u001b[0m",
            "\u001b[0;32m/tmp/ipython-input-5-1141163095.py\u001b[0m in \u001b[0;36mmain\u001b[0;34m()\u001b[0m\n\u001b[1;32m     13\u001b[0m         \u001b[0mprint\u001b[0m\u001b[0;34m(\u001b[0m\u001b[0;34m\"5. Exit\"\u001b[0m\u001b[0;34m)\u001b[0m\u001b[0;34m\u001b[0m\u001b[0;34m\u001b[0m\u001b[0m\n\u001b[1;32m     14\u001b[0m \u001b[0;34m\u001b[0m\u001b[0m\n\u001b[0;32m---> 15\u001b[0;31m         \u001b[0mchoice\u001b[0m \u001b[0;34m=\u001b[0m \u001b[0minput\u001b[0m\u001b[0;34m(\u001b[0m\u001b[0;34m\"Enter your choice (1-5): \"\u001b[0m\u001b[0;34m)\u001b[0m\u001b[0;34m\u001b[0m\u001b[0;34m\u001b[0m\u001b[0m\n\u001b[0m\u001b[1;32m     16\u001b[0m \u001b[0;34m\u001b[0m\u001b[0m\n\u001b[1;32m     17\u001b[0m         \u001b[0;31m# Use if-elif-else to handle the user's choice\u001b[0m\u001b[0;34m\u001b[0m\u001b[0;34m\u001b[0m\u001b[0m\n",
            "\u001b[0;32m/usr/local/lib/python3.11/dist-packages/ipykernel/kernelbase.py\u001b[0m in \u001b[0;36mraw_input\u001b[0;34m(self, prompt)\u001b[0m\n\u001b[1;32m   1175\u001b[0m                 \u001b[0;34m\"raw_input was called, but this frontend does not support input requests.\"\u001b[0m\u001b[0;34m\u001b[0m\u001b[0;34m\u001b[0m\u001b[0m\n\u001b[1;32m   1176\u001b[0m             )\n\u001b[0;32m-> 1177\u001b[0;31m         return self._input_request(\n\u001b[0m\u001b[1;32m   1178\u001b[0m             \u001b[0mstr\u001b[0m\u001b[0;34m(\u001b[0m\u001b[0mprompt\u001b[0m\u001b[0;34m)\u001b[0m\u001b[0;34m,\u001b[0m\u001b[0;34m\u001b[0m\u001b[0;34m\u001b[0m\u001b[0m\n\u001b[1;32m   1179\u001b[0m             \u001b[0mself\u001b[0m\u001b[0;34m.\u001b[0m\u001b[0m_parent_ident\u001b[0m\u001b[0;34m[\u001b[0m\u001b[0;34m\"shell\"\u001b[0m\u001b[0;34m]\u001b[0m\u001b[0;34m,\u001b[0m\u001b[0;34m\u001b[0m\u001b[0;34m\u001b[0m\u001b[0m\n",
            "\u001b[0;32m/usr/local/lib/python3.11/dist-packages/ipykernel/kernelbase.py\u001b[0m in \u001b[0;36m_input_request\u001b[0;34m(self, prompt, ident, parent, password)\u001b[0m\n\u001b[1;32m   1217\u001b[0m             \u001b[0;32mexcept\u001b[0m \u001b[0mKeyboardInterrupt\u001b[0m\u001b[0;34m:\u001b[0m\u001b[0;34m\u001b[0m\u001b[0;34m\u001b[0m\u001b[0m\n\u001b[1;32m   1218\u001b[0m                 \u001b[0;31m# re-raise KeyboardInterrupt, to truncate traceback\u001b[0m\u001b[0;34m\u001b[0m\u001b[0;34m\u001b[0m\u001b[0m\n\u001b[0;32m-> 1219\u001b[0;31m                 \u001b[0;32mraise\u001b[0m \u001b[0mKeyboardInterrupt\u001b[0m\u001b[0;34m(\u001b[0m\u001b[0;34m\"Interrupted by user\"\u001b[0m\u001b[0;34m)\u001b[0m \u001b[0;32mfrom\u001b[0m \u001b[0;32mNone\u001b[0m\u001b[0;34m\u001b[0m\u001b[0;34m\u001b[0m\u001b[0m\n\u001b[0m\u001b[1;32m   1220\u001b[0m             \u001b[0;32mexcept\u001b[0m \u001b[0mException\u001b[0m\u001b[0;34m:\u001b[0m\u001b[0;34m\u001b[0m\u001b[0;34m\u001b[0m\u001b[0m\n\u001b[1;32m   1221\u001b[0m                 \u001b[0mself\u001b[0m\u001b[0;34m.\u001b[0m\u001b[0mlog\u001b[0m\u001b[0;34m.\u001b[0m\u001b[0mwarning\u001b[0m\u001b[0;34m(\u001b[0m\u001b[0;34m\"Invalid Message:\"\u001b[0m\u001b[0;34m,\u001b[0m \u001b[0mexc_info\u001b[0m\u001b[0;34m=\u001b[0m\u001b[0;32mTrue\u001b[0m\u001b[0;34m)\u001b[0m\u001b[0;34m\u001b[0m\u001b[0;34m\u001b[0m\u001b[0m\n",
            "\u001b[0;31mKeyboardInterrupt\u001b[0m: Interrupted by user"
          ]
        }
      ]
    },
    {
      "cell_type": "code",
      "source": [],
      "metadata": {
        "id": "O75JhAGRWqP5"
      },
      "execution_count": null,
      "outputs": []
    },
    {
      "cell_type": "code",
      "metadata": {
        "colab": {
          "base_uri": "https://localhost:8080/"
        },
        "id": "4f1968f7",
        "outputId": "18e9ef0f-2d7b-4849-fd72-7674b0164ac1"
      },
      "source": [
        "# A tuple is an ordered, immutable collection of items.\n",
        "my_tuple = (1, \"apple\", 3.14, True)\n",
        "\n",
        "# You can access elements by index\n",
        "print(my_tuple[0])\n",
        "print(my_tuple[1])\n",
        "\n",
        "# You can also iterate through a tuple\n",
        "for item in my_tuple:\n",
        "  print(item)\n",
        "\n",
        "# You cannot change elements of a tuple after it's created (immutable)\n",
        "# my_tuple[0] = 2 # This would cause an error"
      ],
      "execution_count": 3,
      "outputs": [
        {
          "output_type": "stream",
          "name": "stdout",
          "text": [
            "1\n",
            "apple\n",
            "1\n",
            "apple\n",
            "3.14\n",
            "True\n"
          ]
        }
      ]
    }
  ],
  "metadata": {
    "kernelspec": {
      "display_name": "Python 3 (ipykernel)",
      "language": "python",
      "name": "python3"
    },
    "language_info": {
      "codemirror_mode": {
        "name": "ipython",
        "version": 3
      },
      "file_extension": ".py",
      "mimetype": "text/x-python",
      "name": "python",
      "nbconvert_exporter": "python",
      "pygments_lexer": "ipython3",
      "version": "3.10.9"
    },
    "colab": {
      "provenance": [],
      "include_colab_link": true
    }
  },
  "nbformat": 4,
  "nbformat_minor": 0
}