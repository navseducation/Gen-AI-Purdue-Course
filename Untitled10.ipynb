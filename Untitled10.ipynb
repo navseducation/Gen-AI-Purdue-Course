{
  "nbformat": 4,
  "nbformat_minor": 0,
  "metadata": {
    "colab": {
      "provenance": [],
      "authorship_tag": "ABX9TyNYFM4U04Dz9Hsk2DZrYsDG",
      "include_colab_link": true
    },
    "kernelspec": {
      "name": "python3",
      "display_name": "Python 3"
    },
    "language_info": {
      "name": "python"
    }
  },
  "cells": [
    {
      "cell_type": "markdown",
      "metadata": {
        "id": "view-in-github",
        "colab_type": "text"
      },
      "source": [
        "<a href=\"https://colab.research.google.com/github/navseducation/Gen-AI-Purdue-Course/blob/main/Untitled10.ipynb\" target=\"_parent\"><img src=\"https://colab.research.google.com/assets/colab-badge.svg\" alt=\"Open In Colab\"/></a>"
      ]
    },
    {
      "cell_type": "code",
      "execution_count": 1,
      "metadata": {
        "colab": {
          "base_uri": "https://localhost:8080/"
        },
        "id": "Dt9gv83fNxLK",
        "outputId": "c8c8e8d1-0f6c-4d2a-9d65-be3860a5d974"
      },
      "outputs": [
        {
          "output_type": "stream",
          "name": "stdout",
          "text": [
            "Manual MSE: 250000000.0\n"
          ]
        }
      ],
      "source": [
        "# Actual and predicted house prices\n",
        "actual = [300000, 450000, 500000, 600000]\n",
        "predicted = [310000, 430000, 520000, 590000]\n",
        "\n",
        "# Manual MSE Calculation\n",
        "squared_errors = [(a - p)**2 for a, p in zip(actual, predicted)]\n",
        "mse_manual = sum(squared_errors) / len(actual)\n",
        "\n",
        "print(f\"Manual MSE: {mse_manual}\")\n"
      ]
    },
    {
      "cell_type": "code",
      "source": [],
      "metadata": {
        "colab": {
          "base_uri": "https://localhost:8080/"
        },
        "id": "N9Z2D48HOEUE",
        "outputId": "b8c8732c-9725-4703-bc40-9953526c5e28"
      },
      "execution_count": 2,
      "outputs": [
        {
          "output_type": "stream",
          "name": "stdout",
          "text": [
            "Manual RMSE: 15811.388300841896\n"
          ]
        }
      ]
    },
    {
      "cell_type": "code",
      "source": [
        "from sklearn.metrics import mean_squared_error\n",
        "import math\n",
        "\n",
        "# Calculate MSE using sklearn\n",
        "mse_sklearn = mean_squared_error(actual, predicted)\n",
        "\n",
        "# Calculate RMSE using sklearn\n",
        "rmse_sklearn = math.sqrt(mse_sklearn)\n",
        "\n",
        "print(f\"Sklearn MSE: {mse_sklearn}\")\n",
        "print(f\"Sklearn RMSE: {rmse_sklearn}\")"
      ],
      "metadata": {
        "colab": {
          "base_uri": "https://localhost:8080/"
        },
        "id": "cBIIAgMoOO67",
        "outputId": "4683fc39-923c-4052-e36d-8f4d156829ea"
      },
      "execution_count": 5,
      "outputs": [
        {
          "output_type": "stream",
          "name": "stdout",
          "text": [
            "Sklearn MSE: 250000000.0\n",
            "Sklearn RMSE: 15811.388300841896\n"
          ]
        }
      ]
    }
  ]
}