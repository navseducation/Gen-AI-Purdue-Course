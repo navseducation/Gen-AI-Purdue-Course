{
  "cells": [
    {
      "cell_type": "markdown",
      "metadata": {
        "id": "view-in-github",
        "colab_type": "text"
      },
      "source": [
        "<a href=\"https://colab.research.google.com/github/navseducation/Gen-AI-Purdue-Course/blob/main/Word2vec_gensim_movie_data.ipynb\" target=\"_parent\"><img src=\"https://colab.research.google.com/assets/colab-badge.svg\" alt=\"Open In Colab\"/></a>"
      ]
    },
    {
      "cell_type": "markdown",
      "source": [],
      "metadata": {
        "id": "nh_zy9GHSODT"
      }
    },
    {
      "cell_type": "markdown",
      "metadata": {
        "id": "C2WAFZueaivk"
      },
      "source": [
        "### Load Gensim Library"
      ]
    },
    {
      "cell_type": "code",
      "execution_count": null,
      "metadata": {
        "id": "WWg3i_ryddsA",
        "colab": {
          "base_uri": "https://localhost:8080/"
        },
        "outputId": "d8fb8ffe-5754-4eb1-a484-614ed059b162"
      },
      "outputs": [
        {
          "output_type": "stream",
          "name": "stdout",
          "text": [
            "Requirement already satisfied: gensim in /usr/local/lib/python3.11/dist-packages (4.3.3)\n",
            "Requirement already satisfied: numpy<2.0,>=1.18.5 in /usr/local/lib/python3.11/dist-packages (from gensim) (1.26.4)\n",
            "Requirement already satisfied: scipy<1.14.0,>=1.7.0 in /usr/local/lib/python3.11/dist-packages (from gensim) (1.13.1)\n",
            "Requirement already satisfied: smart-open>=1.8.1 in /usr/local/lib/python3.11/dist-packages (from gensim) (7.3.0.post1)\n",
            "Requirement already satisfied: wrapt in /usr/local/lib/python3.11/dist-packages (from smart-open>=1.8.1->gensim) (1.17.3)\n"
          ]
        }
      ],
      "source": [
        "!pip install gensim"
      ]
    },
    {
      "cell_type": "code",
      "execution_count": null,
      "metadata": {
        "id": "iSrla7q8aivn",
        "colab": {
          "base_uri": "https://localhost:8080/"
        },
        "outputId": "acbf89a4-527a-4d20-8926-b106386ff275"
      },
      "outputs": [
        {
          "output_type": "stream",
          "name": "stdout",
          "text": [
            "Requirement already satisfied: gensim in /usr/local/lib/python3.11/dist-packages (4.3.3)\n",
            "Requirement already satisfied: numpy<2.0,>=1.18.5 in /usr/local/lib/python3.11/dist-packages (from gensim) (1.26.4)\n",
            "Requirement already satisfied: scipy<1.14.0,>=1.7.0 in /usr/local/lib/python3.11/dist-packages (from gensim) (1.13.1)\n",
            "Requirement already satisfied: smart-open>=1.8.1 in /usr/local/lib/python3.11/dist-packages (from gensim) (7.3.0.post1)\n",
            "Requirement already satisfied: wrapt in /usr/local/lib/python3.11/dist-packages (from smart-open>=1.8.1->gensim) (1.17.3)\n"
          ]
        }
      ],
      "source": [
        "import gensim\n",
        "import warnings\n",
        "warnings.filterwarnings('ignore')"
      ]
    },
    {
      "cell_type": "code",
      "execution_count": null,
      "metadata": {
        "id": "D6HqQQL4aivq"
      },
      "outputs": [],
      "source": [
        "import logging\n",
        "logging.basicConfig(format='%(asctime)s : %(levelname)s : %(message)s',\n",
        "                    level=logging.INFO)"
      ]
    },
    {
      "cell_type": "markdown",
      "metadata": {
        "id": "rOTbE9ZPaivu"
      },
      "source": [
        "### Load Text Data\n",
        "\n",
        "Data can be downloaded from https://www.kaggle.com/c/word2vec-nlp-tutorial/data"
      ]
    },
    {
      "cell_type": "code",
      "execution_count": null,
      "metadata": {
        "id": "oHi3q9cPKijF",
        "colab": {
          "base_uri": "https://localhost:8080/",
          "height": 321
        },
        "outputId": "ef13ff64-2e97-437b-ee4a-02670453ea3a"
      },
      "outputs": [
        {
          "output_type": "error",
          "ename": "MessageError",
          "evalue": "Error: credential propagation was unsuccessful",
          "traceback": [
            "\u001b[0;31m---------------------------------------------------------------------------\u001b[0m",
            "\u001b[0;31mMessageError\u001b[0m                              Traceback (most recent call last)",
            "\u001b[0;32m/tmp/ipython-input-2410572422.py\u001b[0m in \u001b[0;36m<cell line: 0>\u001b[0;34m()\u001b[0m\n\u001b[1;32m      1\u001b[0m \u001b[0;31m#This is needed only if you have uploaded data to Google drive\u001b[0m\u001b[0;34m\u001b[0m\u001b[0;34m\u001b[0m\u001b[0m\n\u001b[1;32m      2\u001b[0m \u001b[0;32mfrom\u001b[0m \u001b[0mgoogle\u001b[0m\u001b[0;34m.\u001b[0m\u001b[0mcolab\u001b[0m \u001b[0;32mimport\u001b[0m \u001b[0mdrive\u001b[0m\u001b[0;34m\u001b[0m\u001b[0;34m\u001b[0m\u001b[0m\n\u001b[0;32m----> 3\u001b[0;31m \u001b[0mdrive\u001b[0m\u001b[0;34m.\u001b[0m\u001b[0mmount\u001b[0m\u001b[0;34m(\u001b[0m\u001b[0;34m'/gdrive'\u001b[0m\u001b[0;34m)\u001b[0m\u001b[0;34m\u001b[0m\u001b[0;34m\u001b[0m\u001b[0m\n\u001b[0m",
            "\u001b[0;32m/usr/local/lib/python3.11/dist-packages/google/colab/drive.py\u001b[0m in \u001b[0;36mmount\u001b[0;34m(mountpoint, force_remount, timeout_ms, readonly)\u001b[0m\n\u001b[1;32m     98\u001b[0m \u001b[0;32mdef\u001b[0m \u001b[0mmount\u001b[0m\u001b[0;34m(\u001b[0m\u001b[0mmountpoint\u001b[0m\u001b[0;34m,\u001b[0m \u001b[0mforce_remount\u001b[0m\u001b[0;34m=\u001b[0m\u001b[0;32mFalse\u001b[0m\u001b[0;34m,\u001b[0m \u001b[0mtimeout_ms\u001b[0m\u001b[0;34m=\u001b[0m\u001b[0;36m120000\u001b[0m\u001b[0;34m,\u001b[0m \u001b[0mreadonly\u001b[0m\u001b[0;34m=\u001b[0m\u001b[0;32mFalse\u001b[0m\u001b[0;34m)\u001b[0m\u001b[0;34m:\u001b[0m\u001b[0;34m\u001b[0m\u001b[0;34m\u001b[0m\u001b[0m\n\u001b[1;32m     99\u001b[0m   \u001b[0;34m\"\"\"Mount your Google Drive at the specified mountpoint path.\"\"\"\u001b[0m\u001b[0;34m\u001b[0m\u001b[0;34m\u001b[0m\u001b[0m\n\u001b[0;32m--> 100\u001b[0;31m   return _mount(\n\u001b[0m\u001b[1;32m    101\u001b[0m       \u001b[0mmountpoint\u001b[0m\u001b[0;34m,\u001b[0m\u001b[0;34m\u001b[0m\u001b[0;34m\u001b[0m\u001b[0m\n\u001b[1;32m    102\u001b[0m       \u001b[0mforce_remount\u001b[0m\u001b[0;34m=\u001b[0m\u001b[0mforce_remount\u001b[0m\u001b[0;34m,\u001b[0m\u001b[0;34m\u001b[0m\u001b[0;34m\u001b[0m\u001b[0m\n",
            "\u001b[0;32m/usr/local/lib/python3.11/dist-packages/google/colab/drive.py\u001b[0m in \u001b[0;36m_mount\u001b[0;34m(mountpoint, force_remount, timeout_ms, ephemeral, readonly)\u001b[0m\n\u001b[1;32m    135\u001b[0m   )\n\u001b[1;32m    136\u001b[0m   \u001b[0;32mif\u001b[0m \u001b[0mephemeral\u001b[0m\u001b[0;34m:\u001b[0m\u001b[0;34m\u001b[0m\u001b[0;34m\u001b[0m\u001b[0m\n\u001b[0;32m--> 137\u001b[0;31m     _message.blocking_request(\n\u001b[0m\u001b[1;32m    138\u001b[0m         \u001b[0;34m'request_auth'\u001b[0m\u001b[0;34m,\u001b[0m\u001b[0;34m\u001b[0m\u001b[0;34m\u001b[0m\u001b[0m\n\u001b[1;32m    139\u001b[0m         \u001b[0mrequest\u001b[0m\u001b[0;34m=\u001b[0m\u001b[0;34m{\u001b[0m\u001b[0;34m'authType'\u001b[0m\u001b[0;34m:\u001b[0m \u001b[0;34m'dfs_ephemeral'\u001b[0m\u001b[0;34m}\u001b[0m\u001b[0;34m,\u001b[0m\u001b[0;34m\u001b[0m\u001b[0;34m\u001b[0m\u001b[0m\n",
            "\u001b[0;32m/usr/local/lib/python3.11/dist-packages/google/colab/_message.py\u001b[0m in \u001b[0;36mblocking_request\u001b[0;34m(request_type, request, timeout_sec, parent)\u001b[0m\n\u001b[1;32m    174\u001b[0m       \u001b[0mrequest_type\u001b[0m\u001b[0;34m,\u001b[0m \u001b[0mrequest\u001b[0m\u001b[0;34m,\u001b[0m \u001b[0mparent\u001b[0m\u001b[0;34m=\u001b[0m\u001b[0mparent\u001b[0m\u001b[0;34m,\u001b[0m \u001b[0mexpect_reply\u001b[0m\u001b[0;34m=\u001b[0m\u001b[0;32mTrue\u001b[0m\u001b[0;34m\u001b[0m\u001b[0;34m\u001b[0m\u001b[0m\n\u001b[1;32m    175\u001b[0m   )\n\u001b[0;32m--> 176\u001b[0;31m   \u001b[0;32mreturn\u001b[0m \u001b[0mread_reply_from_input\u001b[0m\u001b[0;34m(\u001b[0m\u001b[0mrequest_id\u001b[0m\u001b[0;34m,\u001b[0m \u001b[0mtimeout_sec\u001b[0m\u001b[0;34m)\u001b[0m\u001b[0;34m\u001b[0m\u001b[0;34m\u001b[0m\u001b[0m\n\u001b[0m",
            "\u001b[0;32m/usr/local/lib/python3.11/dist-packages/google/colab/_message.py\u001b[0m in \u001b[0;36mread_reply_from_input\u001b[0;34m(message_id, timeout_sec)\u001b[0m\n\u001b[1;32m    101\u001b[0m     ):\n\u001b[1;32m    102\u001b[0m       \u001b[0;32mif\u001b[0m \u001b[0;34m'error'\u001b[0m \u001b[0;32min\u001b[0m \u001b[0mreply\u001b[0m\u001b[0;34m:\u001b[0m\u001b[0;34m\u001b[0m\u001b[0;34m\u001b[0m\u001b[0m\n\u001b[0;32m--> 103\u001b[0;31m         \u001b[0;32mraise\u001b[0m \u001b[0mMessageError\u001b[0m\u001b[0;34m(\u001b[0m\u001b[0mreply\u001b[0m\u001b[0;34m[\u001b[0m\u001b[0;34m'error'\u001b[0m\u001b[0;34m]\u001b[0m\u001b[0;34m)\u001b[0m\u001b[0;34m\u001b[0m\u001b[0;34m\u001b[0m\u001b[0m\n\u001b[0m\u001b[1;32m    104\u001b[0m       \u001b[0;32mreturn\u001b[0m \u001b[0mreply\u001b[0m\u001b[0;34m.\u001b[0m\u001b[0mget\u001b[0m\u001b[0;34m(\u001b[0m\u001b[0;34m'data'\u001b[0m\u001b[0;34m,\u001b[0m \u001b[0;32mNone\u001b[0m\u001b[0;34m)\u001b[0m\u001b[0;34m\u001b[0m\u001b[0;34m\u001b[0m\u001b[0m\n\u001b[1;32m    105\u001b[0m \u001b[0;34m\u001b[0m\u001b[0m\n",
            "\u001b[0;31mMessageError\u001b[0m: Error: credential propagation was unsuccessful"
          ]
        }
      ],
      "source": [
        "#This is needed only if you have uploaded data to Google drive\n",
        "from google.colab import drive\n",
        "drive.mount('/gdrive')"
      ]
    },
    {
      "cell_type": "code",
      "execution_count": null,
      "metadata": {
        "colab": {
          "base_uri": "https://localhost:8080/",
          "height": 223
        },
        "id": "sxDRNQv9aivw",
        "outputId": "6c07b12c-0b17-42f4-f8f2-56903b980ce1",
        "scrolled": true
      },
      "outputs": [
        {
          "output_type": "stream",
          "name": "stdout",
          "text": [
            "Number of examples in Dataset:  (50000, 2)\n"
          ]
        },
        {
          "output_type": "execute_result",
          "data": {
            "text/plain": [
              "          id                                             review\n",
              "0   \"9999_0\"  \"Watching Time Chasers, it obvious that it was...\n",
              "1  \"45057_0\"  \"I saw this film about 20 years ago and rememb...\n",
              "2  \"15561_0\"  \"Minor Spoilers<br /><br />In New York, Joan B...\n",
              "3   \"7161_0\"  \"I went to see this film with a great deal of ...\n",
              "4  \"43971_0\"  \"Yes, I agree with everyone on this site this ..."
            ],
            "text/html": [
              "\n",
              "  <div id=\"df-ac66e397-da8b-4b96-9e80-42b37b3f8bf7\" class=\"colab-df-container\">\n",
              "    <div>\n",
              "<style scoped>\n",
              "    .dataframe tbody tr th:only-of-type {\n",
              "        vertical-align: middle;\n",
              "    }\n",
              "\n",
              "    .dataframe tbody tr th {\n",
              "        vertical-align: top;\n",
              "    }\n",
              "\n",
              "    .dataframe thead th {\n",
              "        text-align: right;\n",
              "    }\n",
              "</style>\n",
              "<table border=\"1\" class=\"dataframe\">\n",
              "  <thead>\n",
              "    <tr style=\"text-align: right;\">\n",
              "      <th></th>\n",
              "      <th>id</th>\n",
              "      <th>review</th>\n",
              "    </tr>\n",
              "  </thead>\n",
              "  <tbody>\n",
              "    <tr>\n",
              "      <th>0</th>\n",
              "      <td>\"9999_0\"</td>\n",
              "      <td>\"Watching Time Chasers, it obvious that it was...</td>\n",
              "    </tr>\n",
              "    <tr>\n",
              "      <th>1</th>\n",
              "      <td>\"45057_0\"</td>\n",
              "      <td>\"I saw this film about 20 years ago and rememb...</td>\n",
              "    </tr>\n",
              "    <tr>\n",
              "      <th>2</th>\n",
              "      <td>\"15561_0\"</td>\n",
              "      <td>\"Minor Spoilers&lt;br /&gt;&lt;br /&gt;In New York, Joan B...</td>\n",
              "    </tr>\n",
              "    <tr>\n",
              "      <th>3</th>\n",
              "      <td>\"7161_0\"</td>\n",
              "      <td>\"I went to see this film with a great deal of ...</td>\n",
              "    </tr>\n",
              "    <tr>\n",
              "      <th>4</th>\n",
              "      <td>\"43971_0\"</td>\n",
              "      <td>\"Yes, I agree with everyone on this site this ...</td>\n",
              "    </tr>\n",
              "  </tbody>\n",
              "</table>\n",
              "</div>\n",
              "    <div class=\"colab-df-buttons\">\n",
              "\n",
              "  <div class=\"colab-df-container\">\n",
              "    <button class=\"colab-df-convert\" onclick=\"convertToInteractive('df-ac66e397-da8b-4b96-9e80-42b37b3f8bf7')\"\n",
              "            title=\"Convert this dataframe to an interactive table.\"\n",
              "            style=\"display:none;\">\n",
              "\n",
              "  <svg xmlns=\"http://www.w3.org/2000/svg\" height=\"24px\" viewBox=\"0 -960 960 960\">\n",
              "    <path d=\"M120-120v-720h720v720H120Zm60-500h600v-160H180v160Zm220 220h160v-160H400v160Zm0 220h160v-160H400v160ZM180-400h160v-160H180v160Zm440 0h160v-160H620v160ZM180-180h160v-160H180v160Zm440 0h160v-160H620v160Z\"/>\n",
              "  </svg>\n",
              "    </button>\n",
              "\n",
              "  <style>\n",
              "    .colab-df-container {\n",
              "      display:flex;\n",
              "      gap: 12px;\n",
              "    }\n",
              "\n",
              "    .colab-df-convert {\n",
              "      background-color: #E8F0FE;\n",
              "      border: none;\n",
              "      border-radius: 50%;\n",
              "      cursor: pointer;\n",
              "      display: none;\n",
              "      fill: #1967D2;\n",
              "      height: 32px;\n",
              "      padding: 0 0 0 0;\n",
              "      width: 32px;\n",
              "    }\n",
              "\n",
              "    .colab-df-convert:hover {\n",
              "      background-color: #E2EBFA;\n",
              "      box-shadow: 0px 1px 2px rgba(60, 64, 67, 0.3), 0px 1px 3px 1px rgba(60, 64, 67, 0.15);\n",
              "      fill: #174EA6;\n",
              "    }\n",
              "\n",
              "    .colab-df-buttons div {\n",
              "      margin-bottom: 4px;\n",
              "    }\n",
              "\n",
              "    [theme=dark] .colab-df-convert {\n",
              "      background-color: #3B4455;\n",
              "      fill: #D2E3FC;\n",
              "    }\n",
              "\n",
              "    [theme=dark] .colab-df-convert:hover {\n",
              "      background-color: #434B5C;\n",
              "      box-shadow: 0px 1px 3px 1px rgba(0, 0, 0, 0.15);\n",
              "      filter: drop-shadow(0px 1px 2px rgba(0, 0, 0, 0.3));\n",
              "      fill: #FFFFFF;\n",
              "    }\n",
              "  </style>\n",
              "\n",
              "    <script>\n",
              "      const buttonEl =\n",
              "        document.querySelector('#df-ac66e397-da8b-4b96-9e80-42b37b3f8bf7 button.colab-df-convert');\n",
              "      buttonEl.style.display =\n",
              "        google.colab.kernel.accessAllowed ? 'block' : 'none';\n",
              "\n",
              "      async function convertToInteractive(key) {\n",
              "        const element = document.querySelector('#df-ac66e397-da8b-4b96-9e80-42b37b3f8bf7');\n",
              "        const dataTable =\n",
              "          await google.colab.kernel.invokeFunction('convertToInteractive',\n",
              "                                                    [key], {});\n",
              "        if (!dataTable) return;\n",
              "\n",
              "        const docLinkHtml = 'Like what you see? Visit the ' +\n",
              "          '<a target=\"_blank\" href=https://colab.research.google.com/notebooks/data_table.ipynb>data table notebook</a>'\n",
              "          + ' to learn more about interactive tables.';\n",
              "        element.innerHTML = '';\n",
              "        dataTable['output_type'] = 'display_data';\n",
              "        await google.colab.output.renderOutput(dataTable, element);\n",
              "        const docLink = document.createElement('div');\n",
              "        docLink.innerHTML = docLinkHtml;\n",
              "        element.appendChild(docLink);\n",
              "      }\n",
              "    </script>\n",
              "  </div>\n",
              "\n",
              "\n",
              "    <div id=\"df-fde763b2-4a0c-45c6-ae6d-a80167d4e41e\">\n",
              "      <button class=\"colab-df-quickchart\" onclick=\"quickchart('df-fde763b2-4a0c-45c6-ae6d-a80167d4e41e')\"\n",
              "                title=\"Suggest charts\"\n",
              "                style=\"display:none;\">\n",
              "\n",
              "<svg xmlns=\"http://www.w3.org/2000/svg\" height=\"24px\"viewBox=\"0 0 24 24\"\n",
              "     width=\"24px\">\n",
              "    <g>\n",
              "        <path d=\"M19 3H5c-1.1 0-2 .9-2 2v14c0 1.1.9 2 2 2h14c1.1 0 2-.9 2-2V5c0-1.1-.9-2-2-2zM9 17H7v-7h2v7zm4 0h-2V7h2v10zm4 0h-2v-4h2v4z\"/>\n",
              "    </g>\n",
              "</svg>\n",
              "      </button>\n",
              "\n",
              "<style>\n",
              "  .colab-df-quickchart {\n",
              "      --bg-color: #E8F0FE;\n",
              "      --fill-color: #1967D2;\n",
              "      --hover-bg-color: #E2EBFA;\n",
              "      --hover-fill-color: #174EA6;\n",
              "      --disabled-fill-color: #AAA;\n",
              "      --disabled-bg-color: #DDD;\n",
              "  }\n",
              "\n",
              "  [theme=dark] .colab-df-quickchart {\n",
              "      --bg-color: #3B4455;\n",
              "      --fill-color: #D2E3FC;\n",
              "      --hover-bg-color: #434B5C;\n",
              "      --hover-fill-color: #FFFFFF;\n",
              "      --disabled-bg-color: #3B4455;\n",
              "      --disabled-fill-color: #666;\n",
              "  }\n",
              "\n",
              "  .colab-df-quickchart {\n",
              "    background-color: var(--bg-color);\n",
              "    border: none;\n",
              "    border-radius: 50%;\n",
              "    cursor: pointer;\n",
              "    display: none;\n",
              "    fill: var(--fill-color);\n",
              "    height: 32px;\n",
              "    padding: 0;\n",
              "    width: 32px;\n",
              "  }\n",
              "\n",
              "  .colab-df-quickchart:hover {\n",
              "    background-color: var(--hover-bg-color);\n",
              "    box-shadow: 0 1px 2px rgba(60, 64, 67, 0.3), 0 1px 3px 1px rgba(60, 64, 67, 0.15);\n",
              "    fill: var(--button-hover-fill-color);\n",
              "  }\n",
              "\n",
              "  .colab-df-quickchart-complete:disabled,\n",
              "  .colab-df-quickchart-complete:disabled:hover {\n",
              "    background-color: var(--disabled-bg-color);\n",
              "    fill: var(--disabled-fill-color);\n",
              "    box-shadow: none;\n",
              "  }\n",
              "\n",
              "  .colab-df-spinner {\n",
              "    border: 2px solid var(--fill-color);\n",
              "    border-color: transparent;\n",
              "    border-bottom-color: var(--fill-color);\n",
              "    animation:\n",
              "      spin 1s steps(1) infinite;\n",
              "  }\n",
              "\n",
              "  @keyframes spin {\n",
              "    0% {\n",
              "      border-color: transparent;\n",
              "      border-bottom-color: var(--fill-color);\n",
              "      border-left-color: var(--fill-color);\n",
              "    }\n",
              "    20% {\n",
              "      border-color: transparent;\n",
              "      border-left-color: var(--fill-color);\n",
              "      border-top-color: var(--fill-color);\n",
              "    }\n",
              "    30% {\n",
              "      border-color: transparent;\n",
              "      border-left-color: var(--fill-color);\n",
              "      border-top-color: var(--fill-color);\n",
              "      border-right-color: var(--fill-color);\n",
              "    }\n",
              "    40% {\n",
              "      border-color: transparent;\n",
              "      border-right-color: var(--fill-color);\n",
              "      border-top-color: var(--fill-color);\n",
              "    }\n",
              "    60% {\n",
              "      border-color: transparent;\n",
              "      border-right-color: var(--fill-color);\n",
              "    }\n",
              "    80% {\n",
              "      border-color: transparent;\n",
              "      border-right-color: var(--fill-color);\n",
              "      border-bottom-color: var(--fill-color);\n",
              "    }\n",
              "    90% {\n",
              "      border-color: transparent;\n",
              "      border-bottom-color: var(--fill-color);\n",
              "    }\n",
              "  }\n",
              "</style>\n",
              "\n",
              "      <script>\n",
              "        async function quickchart(key) {\n",
              "          const quickchartButtonEl =\n",
              "            document.querySelector('#' + key + ' button');\n",
              "          quickchartButtonEl.disabled = true;  // To prevent multiple clicks.\n",
              "          quickchartButtonEl.classList.add('colab-df-spinner');\n",
              "          try {\n",
              "            const charts = await google.colab.kernel.invokeFunction(\n",
              "                'suggestCharts', [key], {});\n",
              "          } catch (error) {\n",
              "            console.error('Error during call to suggestCharts:', error);\n",
              "          }\n",
              "          quickchartButtonEl.classList.remove('colab-df-spinner');\n",
              "          quickchartButtonEl.classList.add('colab-df-quickchart-complete');\n",
              "        }\n",
              "        (() => {\n",
              "          let quickchartButtonEl =\n",
              "            document.querySelector('#df-fde763b2-4a0c-45c6-ae6d-a80167d4e41e button');\n",
              "          quickchartButtonEl.style.display =\n",
              "            google.colab.kernel.accessAllowed ? 'block' : 'none';\n",
              "        })();\n",
              "      </script>\n",
              "    </div>\n",
              "\n",
              "    </div>\n",
              "  </div>\n"
            ],
            "application/vnd.google.colaboratory.intrinsic+json": {
              "type": "dataframe",
              "variable_name": "df",
              "summary": "{\n  \"name\": \"df\",\n  \"rows\": 50000,\n  \"fields\": [\n    {\n      \"column\": \"id\",\n      \"properties\": {\n        \"dtype\": \"string\",\n        \"num_unique_values\": 50000,\n        \"samples\": [\n          \"\\\"2545_0\\\"\",\n          \"\\\"8811_0\\\"\",\n          \"\\\"3696_0\\\"\"\n        ],\n        \"semantic_type\": \"\",\n        \"description\": \"\"\n      }\n    },\n    {\n      \"column\": \"review\",\n      \"properties\": {\n        \"dtype\": \"string\",\n        \"num_unique_values\": 49507,\n        \"samples\": [\n          \"\\\"Oh God, where do I begin? The murder in the alley? The bad guy with the shark mask? The Nazi Pope? The clumsy lip synching by the plastic woman in the wheel chair? The plastic woman having sex? All the above? Yes and much more.<br /><br />Lets cut to the chase: this movie is awful. The first thing is the bad script. Crappy burger chain using human remains funded by the 'Nazi Pope' with crappy F-rated detectives on their tale. And somehow related to a shark-man who wants revenge. Already makes your head hurt.<br /><br />Then you got the crappy sound editing and the lousy camera work. Could they get the mannequin to lip synch right or was that out of the budget? And what is up with the mannequin sex scene? Just plain retarded in every aspect.<br /><br />Quite frankly this is the worst movie I have never seen such bad acting in all my life. In fact, this is the worst movie I have ever seen so far in my life. The only comparable film in horrible quality is \\\\\\\"Deady Drifter\\\\\\\" - aka \\\\\\\"Out\\\\\\\" with Danny Glover. But this one, with its non-ending ending and lack of brain power prove to be the undoing before this one ever began.<br /><br />Sucks, sucks, and yes - sucks. \\\\\\\"F\\\\\\\"\\\"\",\n          \"\\\"Okay, I understand that this is a kid's movie, and that it's intended to simply be fun. However, that's no excuse for the wreck of a screenplay provided by Britt Allcroft. Some day I may be compelled out of sheer obsession to document the many problems with this movie, but the most fundamental flaw is the continued use of the \\\\\\\"Shining Time\\\\\\\" additions to the Awdry stories. Didi Conn is the only thing shining in Shining Time, created for US TV audiences to stitch together the excellent model railroad Thomas stories. The only thing is, they didn't need to be stitched together, as they stand up just fine on their own in book and video. Worse, the Shining Time portions on TV are excruciating to watch...and now the whole premise is brought to a movie.<br /><br />Now it seems there's some kind of magic railroad connecting a mythical British island railroad to Shining Time, clearly in the USA. In fact, it must be in Lancaster, PA, USA, because the Strasburg Railroad locomotive #475 makes a few appearances in the movie (in Strasburg and Harrisburg, PA) and I doubt it's ever been across the Atlantic.<br /><br />Anyway, to make a long and painful story short, there's almost no motivation for any of the characters in this story to do anything at all. Somehow Mr. Conductor (not an Awdry creation) is running out of gold dust, which will somehow make his \\\\\\\"universe\\\\\\\" fall apart. There's no mention as to why supplies would dwindle to nothing when it's the only thing holding Sodor together - Mr. Conductor is pretty irresponsible if you ask me. He summons his idiot brother who is no help at all, and together they and the rest of the characters stumble on the answer and save the day in a completely underwhelming conclusion.<br /><br />The gold dust emergency happens to coincide with the apparent return of a diesel engine intent on destroying steam engines. The whole evil-diesel and his predictable sidekick-duo are completely unnecessary and just scare the little kids (like my two-year-old). I assume that the marketing folks needed a few more new characters to work into the merchandising mix because there's no excuse for the plot damage caused by the diesel.<br /><br />Your kids may enjoy the railroad scenes, but don't watch this movie unless you want your brains to leak out of your head and turn to mush. The models are great, but the acting and writing are ridiculous. Avoid at all costs!!!\\\"\",\n          \"\\\"The Fans of \\\\\\\"Star Wars - Clone Wars\\\\\\\" may tar and feather me for my opinion, but after seeing this on TV a few months ago (aired directly after the original \\\\\\\"Star Wars - Attack of the Clones\\\\\\\"-Picture) i was extremely disappointed. As a \\\\\\\"Star Wars\\\\\\\"-Fan since 1977 i expected something, that surely will not par up to George Lucas original movies, but a least pay homage to the original movies, but after 15 Minutes i turned the TV off. The cheap animation (boldly called in another comment \\\\\\\"state-of-the-art\\\\\\\"...) was on the roughest level, The movings, explosions and laser-shots was always the same animation-cels reused and reused, the depicting of the actors in his animated forms was ridiculous, the dialogue was extremely stupid... i can't help, i simply did not like this film! It was an insult to George Lucas original movies for me! The next shock for me was to search here on the IMDb for it... Rating 8.1!! Come on: Ed Wood (in drunken condition) would it done better! Everyone has it's own opinion, but i did not like this film, and no power (even not \\\\\\\"the force\\\\\\\" :-) will force me to see the whole thing!\\\"\"\n        ],\n        \"semantic_type\": \"\",\n        \"description\": \"\"\n      }\n    }\n  ]\n}"
            }
          },
          "metadata": {},
          "execution_count": 6
        }
      ],
      "source": [
        "import pandas as pd\n",
        "\n",
        "#change file path to point to where you have stored the zip file.\n",
        "df = pd.read_csv('unlabeledTrainData.tsv.zip', header=0, delimiter=\"\\t\", quoting=3)\n",
        "#df = pd.read_csv('unlabeledTrainData.tsv.zip', header=0, delimiter=\"\\t\", quoting=3)\n",
        "print('Number of examples in Dataset: ', df.shape)\n",
        "df.head()"
      ]
    },
    {
      "cell_type": "markdown",
      "metadata": {
        "id": "j1DHNFNsaivy"
      },
      "source": [
        "### Function to Clean up data"
      ]
    },
    {
      "cell_type": "code",
      "execution_count": null,
      "metadata": {
        "id": "PJf9rUeLaiv0"
      },
      "outputs": [],
      "source": [
        "import re, string\n",
        "\n",
        "def clean_str(string):\n",
        "  \"\"\"\n",
        "  String cleaning before vectorization\n",
        "  \"\"\"\n",
        "  try:\n",
        "    string = re.sub(r'^https?:\\/\\/<>.*[\\r\\n]*', '', string, flags=re.MULTILINE)\n",
        "    string = re.sub(r\"[^A-Za-z]\", \" \", string)\n",
        "    words = string.strip().lower().split()\n",
        "    words = [w for w in words if len(w)>=1]\n",
        "    return \" \".join(words)\n",
        "  except:\n",
        "    return \"\""
      ]
    },
    {
      "cell_type": "markdown",
      "metadata": {
        "id": "ON-JT9fPaiv2"
      },
      "source": [
        "### Clean the Data using routine above"
      ]
    },
    {
      "cell_type": "code",
      "execution_count": null,
      "metadata": {
        "colab": {
          "base_uri": "https://localhost:8080/",
          "height": 206
        },
        "id": "iVOxnQg3aiv4",
        "outputId": "792bed33-c0b8-41f1-f890-23ec298ee539",
        "scrolled": false
      },
      "outputs": [
        {
          "output_type": "execute_result",
          "data": {
            "text/plain": [
              "          id                                             review  \\\n",
              "0   \"9999_0\"  \"Watching Time Chasers, it obvious that it was...   \n",
              "1  \"45057_0\"  \"I saw this film about 20 years ago and rememb...   \n",
              "2  \"15561_0\"  \"Minor Spoilers<br /><br />In New York, Joan B...   \n",
              "3   \"7161_0\"  \"I went to see this film with a great deal of ...   \n",
              "4  \"43971_0\"  \"Yes, I agree with everyone on this site this ...   \n",
              "\n",
              "                                        clean_review  \n",
              "0  watching time chasers it obvious that it was m...  \n",
              "1  i saw this film about years ago and remember i...  \n",
              "2  minor spoilers br br in new york joan barnard ...  \n",
              "3  i went to see this film with a great deal of e...  \n",
              "4  yes i agree with everyone on this site this mo...  "
            ],
            "text/html": [
              "\n",
              "  <div id=\"df-58b67a04-c3a4-420e-bf5d-9e442c6f0c64\" class=\"colab-df-container\">\n",
              "    <div>\n",
              "<style scoped>\n",
              "    .dataframe tbody tr th:only-of-type {\n",
              "        vertical-align: middle;\n",
              "    }\n",
              "\n",
              "    .dataframe tbody tr th {\n",
              "        vertical-align: top;\n",
              "    }\n",
              "\n",
              "    .dataframe thead th {\n",
              "        text-align: right;\n",
              "    }\n",
              "</style>\n",
              "<table border=\"1\" class=\"dataframe\">\n",
              "  <thead>\n",
              "    <tr style=\"text-align: right;\">\n",
              "      <th></th>\n",
              "      <th>id</th>\n",
              "      <th>review</th>\n",
              "      <th>clean_review</th>\n",
              "    </tr>\n",
              "  </thead>\n",
              "  <tbody>\n",
              "    <tr>\n",
              "      <th>0</th>\n",
              "      <td>\"9999_0\"</td>\n",
              "      <td>\"Watching Time Chasers, it obvious that it was...</td>\n",
              "      <td>watching time chasers it obvious that it was m...</td>\n",
              "    </tr>\n",
              "    <tr>\n",
              "      <th>1</th>\n",
              "      <td>\"45057_0\"</td>\n",
              "      <td>\"I saw this film about 20 years ago and rememb...</td>\n",
              "      <td>i saw this film about years ago and remember i...</td>\n",
              "    </tr>\n",
              "    <tr>\n",
              "      <th>2</th>\n",
              "      <td>\"15561_0\"</td>\n",
              "      <td>\"Minor Spoilers&lt;br /&gt;&lt;br /&gt;In New York, Joan B...</td>\n",
              "      <td>minor spoilers br br in new york joan barnard ...</td>\n",
              "    </tr>\n",
              "    <tr>\n",
              "      <th>3</th>\n",
              "      <td>\"7161_0\"</td>\n",
              "      <td>\"I went to see this film with a great deal of ...</td>\n",
              "      <td>i went to see this film with a great deal of e...</td>\n",
              "    </tr>\n",
              "    <tr>\n",
              "      <th>4</th>\n",
              "      <td>\"43971_0\"</td>\n",
              "      <td>\"Yes, I agree with everyone on this site this ...</td>\n",
              "      <td>yes i agree with everyone on this site this mo...</td>\n",
              "    </tr>\n",
              "  </tbody>\n",
              "</table>\n",
              "</div>\n",
              "    <div class=\"colab-df-buttons\">\n",
              "\n",
              "  <div class=\"colab-df-container\">\n",
              "    <button class=\"colab-df-convert\" onclick=\"convertToInteractive('df-58b67a04-c3a4-420e-bf5d-9e442c6f0c64')\"\n",
              "            title=\"Convert this dataframe to an interactive table.\"\n",
              "            style=\"display:none;\">\n",
              "\n",
              "  <svg xmlns=\"http://www.w3.org/2000/svg\" height=\"24px\" viewBox=\"0 -960 960 960\">\n",
              "    <path d=\"M120-120v-720h720v720H120Zm60-500h600v-160H180v160Zm220 220h160v-160H400v160Zm0 220h160v-160H400v160ZM180-400h160v-160H180v160Zm440 0h160v-160H620v160ZM180-180h160v-160H180v160Zm440 0h160v-160H620v160Z\"/>\n",
              "  </svg>\n",
              "    </button>\n",
              "\n",
              "  <style>\n",
              "    .colab-df-container {\n",
              "      display:flex;\n",
              "      gap: 12px;\n",
              "    }\n",
              "\n",
              "    .colab-df-convert {\n",
              "      background-color: #E8F0FE;\n",
              "      border: none;\n",
              "      border-radius: 50%;\n",
              "      cursor: pointer;\n",
              "      display: none;\n",
              "      fill: #1967D2;\n",
              "      height: 32px;\n",
              "      padding: 0 0 0 0;\n",
              "      width: 32px;\n",
              "    }\n",
              "\n",
              "    .colab-df-convert:hover {\n",
              "      background-color: #E2EBFA;\n",
              "      box-shadow: 0px 1px 2px rgba(60, 64, 67, 0.3), 0px 1px 3px 1px rgba(60, 64, 67, 0.15);\n",
              "      fill: #174EA6;\n",
              "    }\n",
              "\n",
              "    .colab-df-buttons div {\n",
              "      margin-bottom: 4px;\n",
              "    }\n",
              "\n",
              "    [theme=dark] .colab-df-convert {\n",
              "      background-color: #3B4455;\n",
              "      fill: #D2E3FC;\n",
              "    }\n",
              "\n",
              "    [theme=dark] .colab-df-convert:hover {\n",
              "      background-color: #434B5C;\n",
              "      box-shadow: 0px 1px 3px 1px rgba(0, 0, 0, 0.15);\n",
              "      filter: drop-shadow(0px 1px 2px rgba(0, 0, 0, 0.3));\n",
              "      fill: #FFFFFF;\n",
              "    }\n",
              "  </style>\n",
              "\n",
              "    <script>\n",
              "      const buttonEl =\n",
              "        document.querySelector('#df-58b67a04-c3a4-420e-bf5d-9e442c6f0c64 button.colab-df-convert');\n",
              "      buttonEl.style.display =\n",
              "        google.colab.kernel.accessAllowed ? 'block' : 'none';\n",
              "\n",
              "      async function convertToInteractive(key) {\n",
              "        const element = document.querySelector('#df-58b67a04-c3a4-420e-bf5d-9e442c6f0c64');\n",
              "        const dataTable =\n",
              "          await google.colab.kernel.invokeFunction('convertToInteractive',\n",
              "                                                    [key], {});\n",
              "        if (!dataTable) return;\n",
              "\n",
              "        const docLinkHtml = 'Like what you see? Visit the ' +\n",
              "          '<a target=\"_blank\" href=https://colab.research.google.com/notebooks/data_table.ipynb>data table notebook</a>'\n",
              "          + ' to learn more about interactive tables.';\n",
              "        element.innerHTML = '';\n",
              "        dataTable['output_type'] = 'display_data';\n",
              "        await google.colab.output.renderOutput(dataTable, element);\n",
              "        const docLink = document.createElement('div');\n",
              "        docLink.innerHTML = docLinkHtml;\n",
              "        element.appendChild(docLink);\n",
              "      }\n",
              "    </script>\n",
              "  </div>\n",
              "\n",
              "\n",
              "    <div id=\"df-89c4b5b5-2a70-488c-aac6-927f622ba893\">\n",
              "      <button class=\"colab-df-quickchart\" onclick=\"quickchart('df-89c4b5b5-2a70-488c-aac6-927f622ba893')\"\n",
              "                title=\"Suggest charts\"\n",
              "                style=\"display:none;\">\n",
              "\n",
              "<svg xmlns=\"http://www.w3.org/2000/svg\" height=\"24px\"viewBox=\"0 0 24 24\"\n",
              "     width=\"24px\">\n",
              "    <g>\n",
              "        <path d=\"M19 3H5c-1.1 0-2 .9-2 2v14c0 1.1.9 2 2 2h14c1.1 0 2-.9 2-2V5c0-1.1-.9-2-2-2zM9 17H7v-7h2v7zm4 0h-2V7h2v10zm4 0h-2v-4h2v4z\"/>\n",
              "    </g>\n",
              "</svg>\n",
              "      </button>\n",
              "\n",
              "<style>\n",
              "  .colab-df-quickchart {\n",
              "      --bg-color: #E8F0FE;\n",
              "      --fill-color: #1967D2;\n",
              "      --hover-bg-color: #E2EBFA;\n",
              "      --hover-fill-color: #174EA6;\n",
              "      --disabled-fill-color: #AAA;\n",
              "      --disabled-bg-color: #DDD;\n",
              "  }\n",
              "\n",
              "  [theme=dark] .colab-df-quickchart {\n",
              "      --bg-color: #3B4455;\n",
              "      --fill-color: #D2E3FC;\n",
              "      --hover-bg-color: #434B5C;\n",
              "      --hover-fill-color: #FFFFFF;\n",
              "      --disabled-bg-color: #3B4455;\n",
              "      --disabled-fill-color: #666;\n",
              "  }\n",
              "\n",
              "  .colab-df-quickchart {\n",
              "    background-color: var(--bg-color);\n",
              "    border: none;\n",
              "    border-radius: 50%;\n",
              "    cursor: pointer;\n",
              "    display: none;\n",
              "    fill: var(--fill-color);\n",
              "    height: 32px;\n",
              "    padding: 0;\n",
              "    width: 32px;\n",
              "  }\n",
              "\n",
              "  .colab-df-quickchart:hover {\n",
              "    background-color: var(--hover-bg-color);\n",
              "    box-shadow: 0 1px 2px rgba(60, 64, 67, 0.3), 0 1px 3px 1px rgba(60, 64, 67, 0.15);\n",
              "    fill: var(--button-hover-fill-color);\n",
              "  }\n",
              "\n",
              "  .colab-df-quickchart-complete:disabled,\n",
              "  .colab-df-quickchart-complete:disabled:hover {\n",
              "    background-color: var(--disabled-bg-color);\n",
              "    fill: var(--disabled-fill-color);\n",
              "    box-shadow: none;\n",
              "  }\n",
              "\n",
              "  .colab-df-spinner {\n",
              "    border: 2px solid var(--fill-color);\n",
              "    border-color: transparent;\n",
              "    border-bottom-color: var(--fill-color);\n",
              "    animation:\n",
              "      spin 1s steps(1) infinite;\n",
              "  }\n",
              "\n",
              "  @keyframes spin {\n",
              "    0% {\n",
              "      border-color: transparent;\n",
              "      border-bottom-color: var(--fill-color);\n",
              "      border-left-color: var(--fill-color);\n",
              "    }\n",
              "    20% {\n",
              "      border-color: transparent;\n",
              "      border-left-color: var(--fill-color);\n",
              "      border-top-color: var(--fill-color);\n",
              "    }\n",
              "    30% {\n",
              "      border-color: transparent;\n",
              "      border-left-color: var(--fill-color);\n",
              "      border-top-color: var(--fill-color);\n",
              "      border-right-color: var(--fill-color);\n",
              "    }\n",
              "    40% {\n",
              "      border-color: transparent;\n",
              "      border-right-color: var(--fill-color);\n",
              "      border-top-color: var(--fill-color);\n",
              "    }\n",
              "    60% {\n",
              "      border-color: transparent;\n",
              "      border-right-color: var(--fill-color);\n",
              "    }\n",
              "    80% {\n",
              "      border-color: transparent;\n",
              "      border-right-color: var(--fill-color);\n",
              "      border-bottom-color: var(--fill-color);\n",
              "    }\n",
              "    90% {\n",
              "      border-color: transparent;\n",
              "      border-bottom-color: var(--fill-color);\n",
              "    }\n",
              "  }\n",
              "</style>\n",
              "\n",
              "      <script>\n",
              "        async function quickchart(key) {\n",
              "          const quickchartButtonEl =\n",
              "            document.querySelector('#' + key + ' button');\n",
              "          quickchartButtonEl.disabled = true;  // To prevent multiple clicks.\n",
              "          quickchartButtonEl.classList.add('colab-df-spinner');\n",
              "          try {\n",
              "            const charts = await google.colab.kernel.invokeFunction(\n",
              "                'suggestCharts', [key], {});\n",
              "          } catch (error) {\n",
              "            console.error('Error during call to suggestCharts:', error);\n",
              "          }\n",
              "          quickchartButtonEl.classList.remove('colab-df-spinner');\n",
              "          quickchartButtonEl.classList.add('colab-df-quickchart-complete');\n",
              "        }\n",
              "        (() => {\n",
              "          let quickchartButtonEl =\n",
              "            document.querySelector('#df-89c4b5b5-2a70-488c-aac6-927f622ba893 button');\n",
              "          quickchartButtonEl.style.display =\n",
              "            google.colab.kernel.accessAllowed ? 'block' : 'none';\n",
              "        })();\n",
              "      </script>\n",
              "    </div>\n",
              "\n",
              "    </div>\n",
              "  </div>\n"
            ],
            "application/vnd.google.colaboratory.intrinsic+json": {
              "type": "dataframe",
              "variable_name": "df",
              "summary": "{\n  \"name\": \"df\",\n  \"rows\": 50000,\n  \"fields\": [\n    {\n      \"column\": \"id\",\n      \"properties\": {\n        \"dtype\": \"string\",\n        \"num_unique_values\": 50000,\n        \"samples\": [\n          \"\\\"2545_0\\\"\",\n          \"\\\"8811_0\\\"\",\n          \"\\\"3696_0\\\"\"\n        ],\n        \"semantic_type\": \"\",\n        \"description\": \"\"\n      }\n    },\n    {\n      \"column\": \"review\",\n      \"properties\": {\n        \"dtype\": \"string\",\n        \"num_unique_values\": 49507,\n        \"samples\": [\n          \"\\\"Oh God, where do I begin? The murder in the alley? The bad guy with the shark mask? The Nazi Pope? The clumsy lip synching by the plastic woman in the wheel chair? The plastic woman having sex? All the above? Yes and much more.<br /><br />Lets cut to the chase: this movie is awful. The first thing is the bad script. Crappy burger chain using human remains funded by the 'Nazi Pope' with crappy F-rated detectives on their tale. And somehow related to a shark-man who wants revenge. Already makes your head hurt.<br /><br />Then you got the crappy sound editing and the lousy camera work. Could they get the mannequin to lip synch right or was that out of the budget? And what is up with the mannequin sex scene? Just plain retarded in every aspect.<br /><br />Quite frankly this is the worst movie I have never seen such bad acting in all my life. In fact, this is the worst movie I have ever seen so far in my life. The only comparable film in horrible quality is \\\\\\\"Deady Drifter\\\\\\\" - aka \\\\\\\"Out\\\\\\\" with Danny Glover. But this one, with its non-ending ending and lack of brain power prove to be the undoing before this one ever began.<br /><br />Sucks, sucks, and yes - sucks. \\\\\\\"F\\\\\\\"\\\"\",\n          \"\\\"Okay, I understand that this is a kid's movie, and that it's intended to simply be fun. However, that's no excuse for the wreck of a screenplay provided by Britt Allcroft. Some day I may be compelled out of sheer obsession to document the many problems with this movie, but the most fundamental flaw is the continued use of the \\\\\\\"Shining Time\\\\\\\" additions to the Awdry stories. Didi Conn is the only thing shining in Shining Time, created for US TV audiences to stitch together the excellent model railroad Thomas stories. The only thing is, they didn't need to be stitched together, as they stand up just fine on their own in book and video. Worse, the Shining Time portions on TV are excruciating to watch...and now the whole premise is brought to a movie.<br /><br />Now it seems there's some kind of magic railroad connecting a mythical British island railroad to Shining Time, clearly in the USA. In fact, it must be in Lancaster, PA, USA, because the Strasburg Railroad locomotive #475 makes a few appearances in the movie (in Strasburg and Harrisburg, PA) and I doubt it's ever been across the Atlantic.<br /><br />Anyway, to make a long and painful story short, there's almost no motivation for any of the characters in this story to do anything at all. Somehow Mr. Conductor (not an Awdry creation) is running out of gold dust, which will somehow make his \\\\\\\"universe\\\\\\\" fall apart. There's no mention as to why supplies would dwindle to nothing when it's the only thing holding Sodor together - Mr. Conductor is pretty irresponsible if you ask me. He summons his idiot brother who is no help at all, and together they and the rest of the characters stumble on the answer and save the day in a completely underwhelming conclusion.<br /><br />The gold dust emergency happens to coincide with the apparent return of a diesel engine intent on destroying steam engines. The whole evil-diesel and his predictable sidekick-duo are completely unnecessary and just scare the little kids (like my two-year-old). I assume that the marketing folks needed a few more new characters to work into the merchandising mix because there's no excuse for the plot damage caused by the diesel.<br /><br />Your kids may enjoy the railroad scenes, but don't watch this movie unless you want your brains to leak out of your head and turn to mush. The models are great, but the acting and writing are ridiculous. Avoid at all costs!!!\\\"\",\n          \"\\\"The Fans of \\\\\\\"Star Wars - Clone Wars\\\\\\\" may tar and feather me for my opinion, but after seeing this on TV a few months ago (aired directly after the original \\\\\\\"Star Wars - Attack of the Clones\\\\\\\"-Picture) i was extremely disappointed. As a \\\\\\\"Star Wars\\\\\\\"-Fan since 1977 i expected something, that surely will not par up to George Lucas original movies, but a least pay homage to the original movies, but after 15 Minutes i turned the TV off. The cheap animation (boldly called in another comment \\\\\\\"state-of-the-art\\\\\\\"...) was on the roughest level, The movings, explosions and laser-shots was always the same animation-cels reused and reused, the depicting of the actors in his animated forms was ridiculous, the dialogue was extremely stupid... i can't help, i simply did not like this film! It was an insult to George Lucas original movies for me! The next shock for me was to search here on the IMDb for it... Rating 8.1!! Come on: Ed Wood (in drunken condition) would it done better! Everyone has it's own opinion, but i did not like this film, and no power (even not \\\\\\\"the force\\\\\\\" :-) will force me to see the whole thing!\\\"\"\n        ],\n        \"semantic_type\": \"\",\n        \"description\": \"\"\n      }\n    },\n    {\n      \"column\": \"clean_review\",\n      \"properties\": {\n        \"dtype\": \"string\",\n        \"num_unique_values\": 49505,\n        \"samples\": [\n          \"this is a must see movie werner peters and all the other cast members deliver superb performances it has got an ensemble of top german character actors playing together on the same high level as we are used to get from the best of preston sturges movies br br the photography of robert baberske is a sheer delight both lighting and framing are masterly done br br if you have enjoyed fritz lang s m than you certainly will enjoy this one the appeal of the story and characters may a bit more specific german but the moral and message is timeless and is true to all western societies br br comedic film jewels like this are not made anymore this makes it even less understandable that there is no dvd version around yet i know for certain that a top notch flawless negative for a digital transfer exists\",\n          \"basilisk is on right now the latest cgi monster flick from sci fi inspired by medieval bestiaries remember manticore br br the effects are bad the characters and situations predictable the monster really badly drawn but it s another one of those movies that is so bad you can enjoy laughing at it and if it weren t for movies like this actors like stephen furst wouldn t have anything to do br br at least we get to see yancy butler running around in a little cocktail dress br br now i see that there is a minimum line requirement to these comments so i have to add more content let s see br br the soldier popping up out of the manhole begging for help only to get pulled back in that s predictable br br the lone garbage man who sees the monster as he walks to the dumpster that s a clich too br br oh and the producers fulfilled another horror movie requirement by having the monster attack a shopping mall take that you blind consumerist sheep br br ooh and the monster came to life at a university museum at a reception for wealthy patrons take that capitalists throw in a nutty sidekick and a hot blonde archeology professor and we have plenty of the expected building blocks of a shake and bake monster movie br br is that enough lines now br br i see that it is who s idea was that requirement anyway\",\n          \"i ve seen plenty of nanny from hell flicks but this movie is sort of the librarian from hell i couldn t figure out if i wanted to sleep with her or take a bat and bludgeon her to death the actress that played erin really got under my skin although i would have liked to seen her naked or someone in the film take their clothes off but it is what it is the scene where she really freaks me out is where she s looking out a window or something looking all insane and spaced out the dude who played the cop was a bit over the top but the rest of the lead actors were actually pretty damn good the other thing that i thought was freaky was the little kid s nursery rhymes and as the movie goes on you realize that these have double meanings for all the murders which is pretty cool i also liked how they filmed everything with the color red low budget and flawed but really dig the style\"\n        ],\n        \"semantic_type\": \"\",\n        \"description\": \"\"\n      }\n    }\n  ]\n}"
            }
          },
          "metadata": {},
          "execution_count": 8
        }
      ],
      "source": [
        "df['clean_review'] = df['review'].apply(clean_str)\n",
        "df.head()"
      ]
    },
    {
      "cell_type": "code",
      "execution_count": null,
      "metadata": {
        "colab": {
          "base_uri": "https://localhost:8080/"
        },
        "id": "03dGFF2WUBcW",
        "outputId": "9357e295-0a5d-4e07-ce60-23360d54cd87",
        "scrolled": true
      },
      "outputs": [
        {
          "output_type": "execute_result",
          "data": {
            "text/plain": [
              "['watching',\n",
              " 'time',\n",
              " 'chasers',\n",
              " 'it',\n",
              " 'obvious',\n",
              " 'that',\n",
              " 'it',\n",
              " 'was',\n",
              " 'made',\n",
              " 'by',\n",
              " 'a',\n",
              " 'bunch',\n",
              " 'of',\n",
              " 'friends',\n",
              " 'maybe',\n",
              " 'they',\n",
              " 'were',\n",
              " 'sitting',\n",
              " 'around',\n",
              " 'one',\n",
              " 'day',\n",
              " 'in',\n",
              " 'film',\n",
              " 'school',\n",
              " 'and',\n",
              " 'said',\n",
              " 'hey',\n",
              " 'let',\n",
              " 's',\n",
              " 'pool',\n",
              " 'our',\n",
              " 'money',\n",
              " 'together',\n",
              " 'and',\n",
              " 'make',\n",
              " 'a',\n",
              " 'really',\n",
              " 'bad',\n",
              " 'movie',\n",
              " 'or',\n",
              " 'something',\n",
              " 'like',\n",
              " 'that',\n",
              " 'what',\n",
              " 'ever',\n",
              " 'they',\n",
              " 'said',\n",
              " 'they',\n",
              " 'still',\n",
              " 'ended',\n",
              " 'up',\n",
              " 'making',\n",
              " 'a',\n",
              " 'really',\n",
              " 'bad',\n",
              " 'movie',\n",
              " 'dull',\n",
              " 'story',\n",
              " 'bad',\n",
              " 'script',\n",
              " 'lame',\n",
              " 'acting',\n",
              " 'poor',\n",
              " 'cinematography',\n",
              " 'bottom',\n",
              " 'of',\n",
              " 'the',\n",
              " 'barrel',\n",
              " 'stock',\n",
              " 'music',\n",
              " 'etc',\n",
              " 'all',\n",
              " 'corners',\n",
              " 'were',\n",
              " 'cut',\n",
              " 'except',\n",
              " 'the',\n",
              " 'one',\n",
              " 'that',\n",
              " 'would',\n",
              " 'have',\n",
              " 'prevented',\n",
              " 'this',\n",
              " 'film',\n",
              " 's',\n",
              " 'release',\n",
              " 'life',\n",
              " 's',\n",
              " 'like',\n",
              " 'that']"
            ]
          },
          "metadata": {},
          "execution_count": 9
        }
      ],
      "source": [
        "df['clean_review'][0].split(' ')"
      ]
    },
    {
      "cell_type": "markdown",
      "metadata": {
        "id": "LJJyLx1Vaiv7"
      },
      "source": [
        "### Convert Review to a Word List"
      ]
    },
    {
      "cell_type": "code",
      "execution_count": null,
      "metadata": {
        "colab": {
          "base_uri": "https://localhost:8080/"
        },
        "id": "5jEV1hl0aiv8",
        "outputId": "3e86a883-3c36-4e53-9d7f-c2d1b9d2d4b8",
        "scrolled": true
      },
      "outputs": [
        {
          "output_type": "stream",
          "name": "stdout",
          "text": [
            "50000\n",
            "['watching', 'time', 'chasers', 'it', 'obvious', 'that', 'it', 'was', 'made', 'by', 'a', 'bunch', 'of', 'friends', 'maybe', 'they', 'were', 'sitting', 'around', 'one', 'day', 'in', 'film', 'school', 'and', 'said', 'hey', 'let', 's', 'pool', 'our', 'money', 'together', 'and', 'make', 'a', 'really', 'bad', 'movie', 'or', 'something', 'like', 'that', 'what', 'ever', 'they', 'said', 'they', 'still', 'ended', 'up', 'making', 'a', 'really', 'bad', 'movie', 'dull', 'story', 'bad', 'script', 'lame', 'acting', 'poor', 'cinematography', 'bottom', 'of', 'the', 'barrel', 'stock', 'music', 'etc', 'all', 'corners', 'were', 'cut', 'except', 'the', 'one', 'that', 'would', 'have', 'prevented', 'this', 'film', 's', 'release', 'life', 's', 'like', 'that']\n"
          ]
        }
      ],
      "source": [
        "#List to hold all words in each review\n",
        "documents = []\n",
        "\n",
        "#Iterate over each review\n",
        "for doc in df['clean_review']:\n",
        "    documents.append(doc.split(' '))\n",
        "\n",
        "print(len(documents))\n",
        "print(documents[0])"
      ]
    },
    {
      "cell_type": "code",
      "execution_count": null,
      "metadata": {
        "colab": {
          "base_uri": "https://localhost:8080/"
        },
        "id": "Ts4vsy8MFOpF",
        "outputId": "631914e8-34e0-4a67-bf97-7eccb335534a"
      },
      "outputs": [
        {
          "output_type": "stream",
          "name": "stdout",
          "text": [
            "90\n"
          ]
        }
      ],
      "source": [
        "print(len(documents[0]))"
      ]
    },
    {
      "cell_type": "code",
      "execution_count": null,
      "metadata": {
        "colab": {
          "base_uri": "https://localhost:8080/"
        },
        "id": "O3D6hiEAcRkf",
        "outputId": "1aec2978-2e89-4edf-8f65-5386f63e6592"
      },
      "outputs": [
        {
          "output_type": "execute_result",
          "data": {
            "text/plain": [
              "82"
            ]
          },
          "metadata": {},
          "execution_count": 12
        }
      ],
      "source": [
        "len(documents[1])"
      ]
    },
    {
      "cell_type": "markdown",
      "metadata": {
        "id": "EHhZ8ncUaiv_"
      },
      "source": [
        "### Build the Model"
      ]
    },
    {
      "cell_type": "code",
      "execution_count": null,
      "metadata": {
        "id": "KsB8HpGwaiwA",
        "scrolled": false
      },
      "outputs": [],
      "source": [
        "#Build the model\n",
        "model = gensim.models.Word2Vec(documents, #Word list\n",
        "                               min_count=5, #Ignore all words with total frequency lower than this\n",
        "                               workers=6, #Number of CPU Cores\n",
        "                               vector_size=30,  #Embedding size\n",
        "                               window=5, #Maximum Distance between current and predicted word\n",
        "                               epochs=10  #Number of iterations over the text corpus\n",
        "                              )"
      ]
    },
    {
      "cell_type": "markdown",
      "metadata": {
        "id": "gDY9oFflaiwC"
      },
      "source": [
        "# Exploring the model"
      ]
    },
    {
      "cell_type": "markdown",
      "metadata": {
        "id": "Wnn8dzYTaiwD"
      },
      "source": [
        "### How many words in the model"
      ]
    },
    {
      "cell_type": "markdown",
      "metadata": {
        "id": "WgqQ11DDaiwL"
      },
      "source": [
        "### Get an embedding for a word"
      ]
    },
    {
      "cell_type": "code",
      "execution_count": null,
      "metadata": {
        "colab": {
          "base_uri": "https://localhost:8080/"
        },
        "id": "FKybdCKfaiwM",
        "outputId": "f6569721-22e9-45ff-dd74-17cb992c6fe4",
        "scrolled": true
      },
      "outputs": [
        {
          "output_type": "execute_result",
          "data": {
            "text/plain": [
              "array([-1.9424357e+00,  2.1404312e+00, -2.5971034e+00, -2.2209520e+00,\n",
              "       -8.1891948e-01, -4.9431759e-01, -1.9749097e+00,  2.5203962e+00,\n",
              "        3.7257774e+00,  1.6287118e-01, -7.7316338e-01,  1.0920780e-01,\n",
              "        5.2986735e-01,  3.5708600e-01,  3.1625209e+00,  4.4290609e+00,\n",
              "        2.7523293e+00,  4.1587214e+00, -2.4624209e+00,  4.6654501e+00,\n",
              "        1.7440808e+00, -2.7851543e+00,  1.7101963e+00,  3.0741794e+00,\n",
              "        2.0851676e+00, -4.2166452e+00,  5.7515204e-01, -9.1815478e-04,\n",
              "       -5.0058895e-01,  3.8452015e+00], dtype=float32)"
            ]
          },
          "metadata": {},
          "execution_count": 14
        }
      ],
      "source": [
        "model.wv['great']"
      ]
    },
    {
      "cell_type": "code",
      "execution_count": null,
      "metadata": {
        "colab": {
          "base_uri": "https://localhost:8080/"
        },
        "id": "C0FF0naciywM",
        "outputId": "8563161f-6897-4ec2-cc64-4a831be9ae6b",
        "scrolled": true
      },
      "outputs": [
        {
          "output_type": "execute_result",
          "data": {
            "text/plain": [
              "array([-0.67832536,  1.5699481 , -0.63711715, -1.8408027 , -2.55018   ,\n",
              "        0.2478128 , -0.69779724,  1.6226641 ,  3.3129272 ,  0.44982693,\n",
              "       -2.0713723 , -1.2038429 , -0.259252  , -1.3458554 ,  1.6881342 ,\n",
              "        3.1647358 ,  2.6609871 ,  3.377169  , -0.14035086,  3.8639238 ,\n",
              "        3.2351465 , -3.9280946 , -2.3333888 ,  2.8832068 ,  1.0821061 ,\n",
              "       -3.643941  ,  1.269224  ,  1.1912572 ,  0.10719376,  0.7017195 ],\n",
              "      dtype=float32)"
            ]
          },
          "metadata": {},
          "execution_count": 15
        }
      ],
      "source": [
        "model.wv['amazing']"
      ]
    },
    {
      "cell_type": "markdown",
      "metadata": {
        "id": "R1L6Z5epaiwP"
      },
      "source": [
        "### Finding Words which have similar meaning"
      ]
    },
    {
      "cell_type": "code",
      "execution_count": null,
      "metadata": {
        "colab": {
          "base_uri": "https://localhost:8080/"
        },
        "id": "0Y93z8W0aiwR",
        "outputId": "8d41047e-8340-4cc4-9555-a583d3363ce1",
        "scrolled": true
      },
      "outputs": [
        {
          "output_type": "execute_result",
          "data": {
            "text/plain": [
              "[('incredible', 0.9010778069496155),\n",
              " ('awesome', 0.8972740769386292),\n",
              " ('fantastic', 0.8483001589775085),\n",
              " ('brilliant', 0.8324704170227051),\n",
              " ('exceptional', 0.8279510140419006),\n",
              " ('outstanding', 0.8272615075111389),\n",
              " ('great', 0.8178824782371521),\n",
              " ('wonderful', 0.8119750022888184),\n",
              " ('excellent', 0.8055941462516785),\n",
              " ('perfect', 0.7951630353927612)]"
            ]
          },
          "metadata": {},
          "execution_count": 16
        }
      ],
      "source": [
        "model.wv.most_similar('amazing')"
      ]
    },
    {
      "cell_type": "code",
      "execution_count": null,
      "metadata": {
        "id": "EXshY_4TUBcf",
        "outputId": "06d8c345-df1b-4d70-c72f-bd93cd740369",
        "colab": {
          "base_uri": "https://localhost:8080/"
        }
      },
      "outputs": [
        {
          "output_type": "execute_result",
          "data": {
            "text/plain": [
              "[('cincinnati', 0.883975088596344),\n",
              " ('copenhagen', 0.877750813961029),\n",
              " ('travelled', 0.8701186776161194),\n",
              " ('elope', 0.8570157885551453),\n",
              " ('ventured', 0.83570396900177),\n",
              " ('donegal', 0.8345761299133301),\n",
              " ('embarked', 0.8334171175956726),\n",
              " ('pasture', 0.8321858048439026),\n",
              " ('winery', 0.8286857008934021),\n",
              " ('portugal', 0.8286079168319702)]"
            ]
          },
          "metadata": {},
          "execution_count": 17
        }
      ],
      "source": [
        "model.wv.most_similar('delhi')"
      ]
    },
    {
      "cell_type": "markdown",
      "metadata": {
        "id": "dWKCuhkSaiwT"
      },
      "source": [
        "### Find the word which is not like others"
      ]
    },
    {
      "cell_type": "markdown",
      "metadata": {
        "id": "dMDqwhZraiwW"
      },
      "source": [
        "### Saving the model"
      ]
    },
    {
      "cell_type": "code",
      "execution_count": null,
      "metadata": {
        "id": "ZMKmOZ0KaiwY"
      },
      "outputs": [],
      "source": [
        "model.save('word2vec-movie-50')"
      ]
    },
    {
      "cell_type": "code",
      "execution_count": null,
      "metadata": {
        "id": "zCnMqOVDaiwb"
      },
      "outputs": [],
      "source": [
        "#Load model from memory\n",
        "model = gensim.models.Word2Vec.load('word2vec-movie-50')"
      ]
    },
    {
      "cell_type": "markdown",
      "metadata": {
        "id": "P5698UDZaiwf"
      },
      "source": [
        "1. Equation king + man = queen + ?\n",
        "2. In this case there may not be enough data for this equation"
      ]
    },
    {
      "cell_type": "code",
      "execution_count": null,
      "metadata": {
        "id": "oUEUdx_EUBcj",
        "outputId": "fd05f00a-3cdb-4016-929b-888437a57c0e",
        "colab": {
          "base_uri": "https://localhost:8080/"
        }
      },
      "outputs": [
        {
          "output_type": "execute_result",
          "data": {
            "text/plain": [
              "[('saint', 0.7291987538337708),\n",
              " ('el', 0.7206029891967773),\n",
              " ('milady', 0.6983327865600586),\n",
              " ('facto', 0.6894933581352234),\n",
              " ('reagan', 0.683952271938324),\n",
              " ('xi', 0.6828990578651428),\n",
              " ('rio', 0.6754740476608276),\n",
              " ('austria', 0.6720345616340637),\n",
              " ('colman', 0.6701590418815613),\n",
              " ('cuba', 0.6698727011680603)]"
            ]
          },
          "metadata": {},
          "execution_count": 21
        }
      ],
      "source": [
        "model.wv.most_similar(positive=['woman', 'king'], negative=['man'], topn=10)"
      ]
    },
    {
      "cell_type": "code",
      "execution_count": null,
      "metadata": {
        "colab": {
          "base_uri": "https://localhost:8080/"
        },
        "id": "GPThj2KUQBJ8",
        "outputId": "80dcc97c-4b2d-4bc7-85f0-c35984a7db54"
      },
      "outputs": [
        {
          "output_type": "execute_result",
          "data": {
            "text/plain": [
              "[('heroine', 0.8993502855300903),\n",
              " ('protagonist', 0.8276101350784302),\n",
              " ('antagonist', 0.7001104950904846),\n",
              " ('argument', 0.6695447564125061),\n",
              " ('predicament', 0.6595082879066467)]"
            ]
          },
          "metadata": {},
          "execution_count": 22
        }
      ],
      "source": [
        "model.wv.most_similar(positive=['woman', 'hero'], negative=['man'], topn=5)"
      ]
    },
    {
      "cell_type": "code",
      "execution_count": null,
      "metadata": {
        "id": "KNfulfToUBcj",
        "outputId": "0b08d008-1794-486c-a641-fb43e6b65e80",
        "colab": {
          "base_uri": "https://localhost:8080/"
        }
      },
      "outputs": [
        {
          "output_type": "execute_result",
          "data": {
            "text/plain": [
              "[('mother', 0.9199700951576233),\n",
              " ('husband', 0.8869858980178833),\n",
              " ('daughter', 0.886826753616333),\n",
              " ('wife', 0.8730366826057434),\n",
              " ('grandmother', 0.861428439617157),\n",
              " ('sister', 0.8505318760871887),\n",
              " ('aunt', 0.8252345323562622),\n",
              " ('child', 0.8144773244857788),\n",
              " ('marriage', 0.8135500550270081),\n",
              " ('parents', 0.8077060580253601)]"
            ]
          },
          "metadata": {},
          "execution_count": 23
        }
      ],
      "source": [
        "model.wv.most_similar(positive=['woman','father'], negative=['man'])"
      ]
    },
    {
      "cell_type": "code",
      "execution_count": null,
      "metadata": {
        "colab": {
          "base_uri": "https://localhost:8080/"
        },
        "id": "iRBUsx0gnt-T",
        "outputId": "7cedd299-71d0-452b-8498-d98846c56643",
        "scrolled": true
      },
      "outputs": [
        {
          "output_type": "execute_result",
          "data": {
            "text/plain": [
              "array([ 4.882239  ,  1.5166391 ,  3.2138824 , -0.3846364 ,  2.7624085 ,\n",
              "        1.4639171 , -1.3386823 ,  1.8275785 , -2.3054118 ,  2.9164822 ,\n",
              "       -1.3305513 , -1.6388509 ,  3.9274638 ,  0.32863474, -1.1456629 ,\n",
              "       -5.609324  ,  0.22982876, -0.91295826, -4.6305885 , -2.8013325 ,\n",
              "       -2.5239637 , -4.4960194 ,  1.1209521 ,  3.1037326 ,  4.313352  ,\n",
              "        0.18896341,  0.60024667, -1.267221  ,  2.3559675 , -1.8934937 ],\n",
              "      dtype=float32)"
            ]
          },
          "metadata": {},
          "execution_count": 24
        }
      ],
      "source": [
        "model.wv['king'] + model.wv['man'] - model.wv['queen']"
      ]
    },
    {
      "cell_type": "code",
      "source": [],
      "metadata": {
        "id": "8wYOqfppT-dK"
      },
      "execution_count": null,
      "outputs": []
    }
  ],
  "metadata": {
    "accelerator": "GPU",
    "colab": {
      "provenance": [],
      "gpuType": "T4",
      "include_colab_link": true
    },
    "kernelspec": {
      "display_name": "Python 3",
      "name": "python3"
    },
    "language_info": {
      "codemirror_mode": {
        "name": "ipython",
        "version": 3
      },
      "file_extension": ".py",
      "mimetype": "text/x-python",
      "name": "python",
      "nbconvert_exporter": "python",
      "pygments_lexer": "ipython3",
      "version": "3.9.7"
    }
  },
  "nbformat": 4,
  "nbformat_minor": 0
}