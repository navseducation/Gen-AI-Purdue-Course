{
  "nbformat": 4,
  "nbformat_minor": 0,
  "metadata": {
    "accelerator": "GPU",
    "colab": {
      "provenance": [],
      "include_colab_link": true
    },
    "kernelspec": {
      "display_name": "Python 3",
      "language": "python",
      "name": "python3"
    },
    "language_info": {
      "codemirror_mode": {
        "name": "ipython",
        "version": 3
      },
      "file_extension": ".py",
      "mimetype": "text/x-python",
      "name": "python",
      "nbconvert_exporter": "python",
      "pygments_lexer": "ipython3",
      "version": "3.8.5"
    }
  },
  "cells": [
    {
      "cell_type": "markdown",
      "metadata": {
        "id": "view-in-github",
        "colab_type": "text"
      },
      "source": [
        "<a href=\"https://colab.research.google.com/github/navseducation/Gen-AI-Purdue-Course/blob/main/Pretrained_Word2vec_Case_Study.ipynb\" target=\"_parent\"><img src=\"https://colab.research.google.com/assets/colab-badge.svg\" alt=\"Open In Colab\"/></a>"
      ]
    },
    {
      "cell_type": "code",
      "metadata": {
        "id": "Is1yLy_oj4Gu",
        "colab": {
          "base_uri": "https://localhost:8080/",
          "height": 321
        },
        "outputId": "38844594-ee47-42a4-d090-df9e54dcee68"
      },
      "source": [
        "import warnings\n",
        "warnings.filterwarnings('ignore')\n",
        "import pandas as pd\n",
        "pd.set_option('display.max_colwidth', -1)"
      ],
      "execution_count": null,
      "outputs": [
        {
          "output_type": "error",
          "ename": "ValueError",
          "evalue": "Value must be a nonnegative integer or None",
          "traceback": [
            "\u001b[0;31m---------------------------------------------------------------------------\u001b[0m",
            "\u001b[0;31mValueError\u001b[0m                                Traceback (most recent call last)",
            "\u001b[0;32m/tmp/ipython-input-3347531066.py\u001b[0m in \u001b[0;36m<cell line: 0>\u001b[0;34m()\u001b[0m\n\u001b[1;32m      2\u001b[0m \u001b[0mwarnings\u001b[0m\u001b[0;34m.\u001b[0m\u001b[0mfilterwarnings\u001b[0m\u001b[0;34m(\u001b[0m\u001b[0;34m'ignore'\u001b[0m\u001b[0;34m)\u001b[0m\u001b[0;34m\u001b[0m\u001b[0;34m\u001b[0m\u001b[0m\n\u001b[1;32m      3\u001b[0m \u001b[0;32mimport\u001b[0m \u001b[0mpandas\u001b[0m \u001b[0;32mas\u001b[0m \u001b[0mpd\u001b[0m\u001b[0;34m\u001b[0m\u001b[0;34m\u001b[0m\u001b[0m\n\u001b[0;32m----> 4\u001b[0;31m \u001b[0mpd\u001b[0m\u001b[0;34m.\u001b[0m\u001b[0mset_option\u001b[0m\u001b[0;34m(\u001b[0m\u001b[0;34m'display.max_colwidth'\u001b[0m\u001b[0;34m,\u001b[0m \u001b[0;34m-\u001b[0m\u001b[0;36m1\u001b[0m\u001b[0;34m)\u001b[0m\u001b[0;34m\u001b[0m\u001b[0;34m\u001b[0m\u001b[0m\n\u001b[0m",
            "\u001b[0;32m/usr/local/lib/python3.11/dist-packages/pandas/_config/config.py\u001b[0m in \u001b[0;36m__call__\u001b[0;34m(self, *args, **kwds)\u001b[0m\n\u001b[1;32m    272\u001b[0m \u001b[0;34m\u001b[0m\u001b[0m\n\u001b[1;32m    273\u001b[0m     \u001b[0;32mdef\u001b[0m \u001b[0m__call__\u001b[0m\u001b[0;34m(\u001b[0m\u001b[0mself\u001b[0m\u001b[0;34m,\u001b[0m \u001b[0;34m*\u001b[0m\u001b[0margs\u001b[0m\u001b[0;34m,\u001b[0m \u001b[0;34m**\u001b[0m\u001b[0mkwds\u001b[0m\u001b[0;34m)\u001b[0m \u001b[0;34m->\u001b[0m \u001b[0mT\u001b[0m\u001b[0;34m:\u001b[0m\u001b[0;34m\u001b[0m\u001b[0;34m\u001b[0m\u001b[0m\n\u001b[0;32m--> 274\u001b[0;31m         \u001b[0;32mreturn\u001b[0m \u001b[0mself\u001b[0m\u001b[0;34m.\u001b[0m\u001b[0m__func__\u001b[0m\u001b[0;34m(\u001b[0m\u001b[0;34m*\u001b[0m\u001b[0margs\u001b[0m\u001b[0;34m,\u001b[0m \u001b[0;34m**\u001b[0m\u001b[0mkwds\u001b[0m\u001b[0;34m)\u001b[0m\u001b[0;34m\u001b[0m\u001b[0;34m\u001b[0m\u001b[0m\n\u001b[0m\u001b[1;32m    275\u001b[0m \u001b[0;34m\u001b[0m\u001b[0m\n\u001b[1;32m    276\u001b[0m     \u001b[0;31m# error: Signature of \"__doc__\" incompatible with supertype \"object\"\u001b[0m\u001b[0;34m\u001b[0m\u001b[0;34m\u001b[0m\u001b[0m\n",
            "\u001b[0;32m/usr/local/lib/python3.11/dist-packages/pandas/_config/config.py\u001b[0m in \u001b[0;36m_set_option\u001b[0;34m(*args, **kwargs)\u001b[0m\n\u001b[1;32m    169\u001b[0m         \u001b[0mo\u001b[0m \u001b[0;34m=\u001b[0m \u001b[0m_get_registered_option\u001b[0m\u001b[0;34m(\u001b[0m\u001b[0mkey\u001b[0m\u001b[0;34m)\u001b[0m\u001b[0;34m\u001b[0m\u001b[0;34m\u001b[0m\u001b[0m\n\u001b[1;32m    170\u001b[0m         \u001b[0;32mif\u001b[0m \u001b[0mo\u001b[0m \u001b[0;32mand\u001b[0m \u001b[0mo\u001b[0m\u001b[0;34m.\u001b[0m\u001b[0mvalidator\u001b[0m\u001b[0;34m:\u001b[0m\u001b[0;34m\u001b[0m\u001b[0;34m\u001b[0m\u001b[0m\n\u001b[0;32m--> 171\u001b[0;31m             \u001b[0mo\u001b[0m\u001b[0;34m.\u001b[0m\u001b[0mvalidator\u001b[0m\u001b[0;34m(\u001b[0m\u001b[0mv\u001b[0m\u001b[0;34m)\u001b[0m\u001b[0;34m\u001b[0m\u001b[0;34m\u001b[0m\u001b[0m\n\u001b[0m\u001b[1;32m    172\u001b[0m \u001b[0;34m\u001b[0m\u001b[0m\n\u001b[1;32m    173\u001b[0m         \u001b[0;31m# walk the nested dict\u001b[0m\u001b[0;34m\u001b[0m\u001b[0;34m\u001b[0m\u001b[0m\n",
            "\u001b[0;32m/usr/local/lib/python3.11/dist-packages/pandas/_config/config.py\u001b[0m in \u001b[0;36mis_nonnegative_int\u001b[0;34m(value)\u001b[0m\n\u001b[1;32m    919\u001b[0m \u001b[0;34m\u001b[0m\u001b[0m\n\u001b[1;32m    920\u001b[0m     \u001b[0mmsg\u001b[0m \u001b[0;34m=\u001b[0m \u001b[0;34m\"Value must be a nonnegative integer or None\"\u001b[0m\u001b[0;34m\u001b[0m\u001b[0;34m\u001b[0m\u001b[0m\n\u001b[0;32m--> 921\u001b[0;31m     \u001b[0;32mraise\u001b[0m \u001b[0mValueError\u001b[0m\u001b[0;34m(\u001b[0m\u001b[0mmsg\u001b[0m\u001b[0;34m)\u001b[0m\u001b[0;34m\u001b[0m\u001b[0;34m\u001b[0m\u001b[0m\n\u001b[0m\u001b[1;32m    922\u001b[0m \u001b[0;34m\u001b[0m\u001b[0m\n\u001b[1;32m    923\u001b[0m \u001b[0;34m\u001b[0m\u001b[0m\n",
            "\u001b[0;31mValueError\u001b[0m: Value must be a nonnegative integer or None"
          ]
        }
      ]
    },
    {
      "cell_type": "code",
      "metadata": {
        "id": "dev1T5xGj4G0",
        "colab": {
          "base_uri": "https://localhost:8080/",
          "height": 367
        },
        "outputId": "deccf4d5-0617-4a4e-a087-8803e9ce1139"
      },
      "source": [
        "import numpy as np\n",
        "import pandas as pd\n",
        "from scipy.stats import itemfreq\n",
        "from sklearn.feature_extraction.text import CountVectorizer, TfidfVectorizer"
      ],
      "execution_count": null,
      "outputs": [
        {
          "output_type": "error",
          "ename": "ImportError",
          "evalue": "cannot import name 'itemfreq' from 'scipy.stats' (/usr/local/lib/python3.11/dist-packages/scipy/stats/__init__.py)",
          "traceback": [
            "\u001b[0;31m---------------------------------------------------------------------------\u001b[0m",
            "\u001b[0;31mImportError\u001b[0m                               Traceback (most recent call last)",
            "\u001b[0;32m/tmp/ipython-input-4052116763.py\u001b[0m in \u001b[0;36m<cell line: 0>\u001b[0;34m()\u001b[0m\n\u001b[1;32m      1\u001b[0m \u001b[0;32mimport\u001b[0m \u001b[0mnumpy\u001b[0m \u001b[0;32mas\u001b[0m \u001b[0mnp\u001b[0m\u001b[0;34m\u001b[0m\u001b[0;34m\u001b[0m\u001b[0m\n\u001b[1;32m      2\u001b[0m \u001b[0;32mimport\u001b[0m \u001b[0mpandas\u001b[0m \u001b[0;32mas\u001b[0m \u001b[0mpd\u001b[0m\u001b[0;34m\u001b[0m\u001b[0;34m\u001b[0m\u001b[0m\n\u001b[0;32m----> 3\u001b[0;31m \u001b[0;32mfrom\u001b[0m \u001b[0mscipy\u001b[0m\u001b[0;34m.\u001b[0m\u001b[0mstats\u001b[0m \u001b[0;32mimport\u001b[0m \u001b[0mitemfreq\u001b[0m\u001b[0;34m\u001b[0m\u001b[0;34m\u001b[0m\u001b[0m\n\u001b[0m\u001b[1;32m      4\u001b[0m \u001b[0;32mfrom\u001b[0m \u001b[0msklearn\u001b[0m\u001b[0;34m.\u001b[0m\u001b[0mfeature_extraction\u001b[0m\u001b[0;34m.\u001b[0m\u001b[0mtext\u001b[0m \u001b[0;32mimport\u001b[0m \u001b[0mCountVectorizer\u001b[0m\u001b[0;34m,\u001b[0m \u001b[0mTfidfVectorizer\u001b[0m\u001b[0;34m\u001b[0m\u001b[0;34m\u001b[0m\u001b[0m\n",
            "\u001b[0;31mImportError\u001b[0m: cannot import name 'itemfreq' from 'scipy.stats' (/usr/local/lib/python3.11/dist-packages/scipy/stats/__init__.py)",
            "",
            "\u001b[0;31m---------------------------------------------------------------------------\u001b[0;32m\nNOTE: If your import is failing due to a missing package, you can\nmanually install dependencies using either !pip or !apt.\n\nTo view examples of installing some common dependencies, click the\n\"Open Examples\" button below.\n\u001b[0;31m---------------------------------------------------------------------------\u001b[0m\n"
          ],
          "errorDetails": {
            "actions": [
              {
                "action": "open_url",
                "actionText": "Open Examples",
                "url": "/notebooks/snippets/importing_libraries.ipynb"
              }
            ]
          }
        }
      ]
    },
    {
      "cell_type": "markdown",
      "metadata": {
        "id": "ZfA9vYPb3hmr"
      },
      "source": [
        "### Understanding word2vec"
      ]
    },
    {
      "cell_type": "code",
      "metadata": {
        "colab": {
          "base_uri": "https://localhost:8080/"
        },
        "id": "Jo9YnF7849hE",
        "outputId": "0a04f17b-4666-4d56-a662-bdd9e9a6d29f"
      },
      "source": [
        "from google.colab import drive\n",
        "drive.mount('/gdrive')"
      ],
      "execution_count": null,
      "outputs": [
        {
          "output_type": "stream",
          "text": [
            "Mounted at /gdrive\n"
          ],
          "name": "stdout"
        }
      ]
    },
    {
      "cell_type": "code",
      "metadata": {
        "id": "g1Ejm5bB3hms"
      },
      "source": [
        "from gensim.models.keyedvectors import KeyedVectors\n",
        "w2vec = KeyedVectors.load_word2vec_format(\"/gdrive/My Drive/Statistical NLP AIML/gensim_glove.6B.50d.txt\", binary=False)\n",
        "#w2vec = KeyedVectors.load_word2vec_format(\"gensim_glove.6B.50d.txt\", binary=False)"
      ],
      "execution_count": null,
      "outputs": []
    },
    {
      "cell_type": "code",
      "metadata": {
        "id": "ZX515Bki3hmu"
      },
      "source": [
        "a = w2vec.word_vec(\"prince\")\n",
        "b = w2vec.word_vec(\"man\")\n",
        "c = w2vec.word_vec(\"princess\")\n",
        "d = w2vec.word_vec(\"woman\")\n",
        "e = w2vec.word_vec(\"fantastic\")\n",
        "f = w2vec.word_vec(\"amazing\")\n",
        "g = w2vec.word_vec(\"great\")\n",
        "h = w2vec.word_vec(\"bad\")"
      ],
      "execution_count": null,
      "outputs": []
    },
    {
      "cell_type": "code",
      "metadata": {
        "colab": {
          "base_uri": "https://localhost:8080/"
        },
        "id": "-v8dyYyt9ADa",
        "outputId": "b637635d-e0b7-4312-94a7-4c6402988f68"
      },
      "source": [
        "a"
      ],
      "execution_count": null,
      "outputs": [
        {
          "output_type": "execute_result",
          "data": {
            "text/plain": [
              "array([ 9.8846e-01,  1.4535e+00, -5.3081e-01,  1.0509e-01,  8.4058e-01,\n",
              "        1.4018e-01,  6.6562e-02,  1.3341e+00, -7.5813e-01, -3.5223e-01,\n",
              "        1.6588e-01,  1.0016e+00,  1.9623e-02, -6.6392e-01,  9.2825e-02,\n",
              "        2.5132e-01, -1.6274e-01, -1.1954e-01, -5.0072e-01,  6.7374e-01,\n",
              "        6.6886e-01, -3.8679e-02,  2.0223e-01, -1.5211e-01,  1.2169e-01,\n",
              "       -1.8324e+00, -8.5664e-01, -6.2454e-01, -3.1896e-01,  6.0221e-01,\n",
              "        1.4110e+00,  5.0157e-01, -1.1413e-01,  5.1808e-01,  8.4700e-01,\n",
              "        1.7618e-01, -3.5265e-02,  5.6405e-01, -3.8524e-01,  6.0270e-01,\n",
              "        3.4331e-01,  1.1836e+00, -3.7197e-01, -1.1069e+00,  1.2758e-04,\n",
              "       -1.8202e-01, -1.3696e+00, -1.4970e+00,  4.0618e-01, -4.2445e-01],\n",
              "      dtype=float32)"
            ]
          },
          "metadata": {
            "tags": []
          },
          "execution_count": 7
        }
      ]
    },
    {
      "cell_type": "code",
      "metadata": {
        "scrolled": true,
        "colab": {
          "base_uri": "https://localhost:8080/"
        },
        "id": "NyumB4tUcAho",
        "outputId": "79264927-7ad2-4917-bef5-48feffdfcf57"
      },
      "source": [
        "w2vec.most_similar(\"ronaldo\",topn=10)"
      ],
      "execution_count": null,
      "outputs": [
        {
          "output_type": "execute_result",
          "data": {
            "text/plain": [
              "[('ronaldinho', 0.9198942184448242),\n",
              " ('kaka', 0.9083754420280457),\n",
              " ('figo', 0.9029849767684937),\n",
              " ('messi', 0.8994787931442261),\n",
              " ('rivaldo', 0.8980934619903564),\n",
              " ('robinho', 0.88315749168396),\n",
              " ('beckham', 0.8826149106025696),\n",
              " ('zidane', 0.8664878010749817),\n",
              " ('romario', 0.8609179258346558),\n",
              " ('cristiano', 0.8473223447799683)]"
            ]
          },
          "metadata": {
            "tags": []
          },
          "execution_count": 12
        }
      ]
    },
    {
      "cell_type": "code",
      "metadata": {
        "colab": {
          "base_uri": "https://localhost:8080/"
        },
        "id": "1meu4oeWcAhp",
        "outputId": "ffddda07-d38f-4bb6-b553-69dffbe6cee7"
      },
      "source": [
        "w2vec.most_similar(positive=['woman','king'], negative=['man'])"
      ],
      "execution_count": null,
      "outputs": [
        {
          "output_type": "execute_result",
          "data": {
            "text/plain": [
              "[('queen', 0.8523603677749634),\n",
              " ('throne', 0.7664334177970886),\n",
              " ('prince', 0.759214460849762),\n",
              " ('daughter', 0.7473883032798767),\n",
              " ('elizabeth', 0.7460220456123352),\n",
              " ('princess', 0.7424569725990295),\n",
              " ('kingdom', 0.7337411642074585),\n",
              " ('monarch', 0.7214490175247192),\n",
              " ('eldest', 0.7184861898422241),\n",
              " ('widow', 0.7099430561065674)]"
            ]
          },
          "metadata": {
            "tags": []
          },
          "execution_count": 14
        }
      ]
    },
    {
      "cell_type": "code",
      "metadata": {
        "colab": {
          "base_uri": "https://localhost:8080/"
        },
        "id": "HQvNTu33cAhr",
        "outputId": "72451f17-60ab-4f6d-c865-b5c375b4506a"
      },
      "source": [
        "w2vec.most_similar(positive=['woman','hero'], negative=['man'])"
      ],
      "execution_count": null,
      "outputs": [
        {
          "output_type": "execute_result",
          "data": {
            "text/plain": [
              "[('heroine', 0.79603111743927),\n",
              " ('beloved', 0.7713976502418518),\n",
              " ('lover', 0.7180960774421692),\n",
              " ('icon', 0.7024756073951721),\n",
              " ('dream', 0.7000209093093872),\n",
              " ('boy', 0.6910168528556824),\n",
              " ('heroes', 0.6907394528388977),\n",
              " ('protagonist', 0.6885753273963928),\n",
              " ('girl', 0.6881182789802551),\n",
              " ('legend', 0.6767857074737549)]"
            ]
          },
          "metadata": {
            "tags": []
          },
          "execution_count": 15
        }
      ]
    },
    {
      "cell_type": "code",
      "metadata": {
        "colab": {
          "base_uri": "https://localhost:8080/"
        },
        "id": "cfaH9E_McAhs",
        "outputId": "8a0a5900-2a4f-464a-c1bd-38ec0fd93193"
      },
      "source": [
        "w2vec.most_similar(positive=['woman','prince'], negative=['man'])"
      ],
      "execution_count": null,
      "outputs": [
        {
          "output_type": "execute_result",
          "data": {
            "text/plain": [
              "[('princess', 0.8421708345413208),\n",
              " ('queen', 0.809951901435852),\n",
              " ('eldest', 0.7617492079734802),\n",
              " ('duchess', 0.7514108419418335),\n",
              " ('daughter', 0.7506946921348572),\n",
              " ('consort', 0.7407562136650085),\n",
              " ('niece', 0.7366246581077576),\n",
              " ('wife', 0.7362103462219238),\n",
              " ('elizabeth', 0.7294495105743408),\n",
              " ('cousin', 0.7250065803527832)]"
            ]
          },
          "metadata": {
            "tags": []
          },
          "execution_count": 16
        }
      ]
    },
    {
      "cell_type": "code",
      "metadata": {
        "colab": {
          "base_uri": "https://localhost:8080/"
        },
        "id": "NKupYhLWcAht",
        "outputId": "fadb655b-9785-4752-891b-965ae2f57392"
      },
      "source": [
        "w2vec.most_similar(positive=['woman','father'], negative=['man'])"
      ],
      "execution_count": null,
      "outputs": [
        {
          "output_type": "execute_result",
          "data": {
            "text/plain": [
              "[('mother', 0.929674506187439),\n",
              " ('daughter', 0.9289506077766418),\n",
              " ('wife', 0.903812825679779),\n",
              " ('grandmother', 0.8816538453102112),\n",
              " ('husband', 0.8662111759185791),\n",
              " ('married', 0.8472806811332703),\n",
              " ('niece', 0.847049355506897),\n",
              " ('granddaughter', 0.834900438785553),\n",
              " ('widow', 0.8247593641281128),\n",
              " ('son', 0.8240340948104858)]"
            ]
          },
          "metadata": {
            "tags": []
          },
          "execution_count": 17
        }
      ]
    },
    {
      "cell_type": "code",
      "metadata": {
        "colab": {
          "base_uri": "https://localhost:8080/",
          "height": 141
        },
        "id": "VH8b5mn4cAhu",
        "outputId": "80fd154e-a24b-4072-9f6e-0a463ffbc62c"
      },
      "source": [
        "w2vec.most_similar(positive=['sachin','sourav'], negative=['tendulkar'])"
      ],
      "execution_count": null,
      "outputs": [
        {
          "output_type": "error",
          "ename": "NameError",
          "evalue": "name 'w2vec' is not defined",
          "traceback": [
            "\u001b[0;31m---------------------------------------------------------------------------\u001b[0m",
            "\u001b[0;31mNameError\u001b[0m                                 Traceback (most recent call last)",
            "\u001b[0;32m/tmp/ipython-input-598201093.py\u001b[0m in \u001b[0;36m<cell line: 0>\u001b[0;34m()\u001b[0m\n\u001b[0;32m----> 1\u001b[0;31m \u001b[0mw2vec\u001b[0m\u001b[0;34m.\u001b[0m\u001b[0mmost_similar\u001b[0m\u001b[0;34m(\u001b[0m\u001b[0mpositive\u001b[0m\u001b[0;34m=\u001b[0m\u001b[0;34m[\u001b[0m\u001b[0;34m'sachin'\u001b[0m\u001b[0;34m,\u001b[0m\u001b[0;34m'sourav'\u001b[0m\u001b[0;34m]\u001b[0m\u001b[0;34m,\u001b[0m \u001b[0mnegative\u001b[0m\u001b[0;34m=\u001b[0m\u001b[0;34m[\u001b[0m\u001b[0;34m'tendulkar'\u001b[0m\u001b[0;34m]\u001b[0m\u001b[0;34m)\u001b[0m\u001b[0;34m\u001b[0m\u001b[0;34m\u001b[0m\u001b[0m\n\u001b[0m",
            "\u001b[0;31mNameError\u001b[0m: name 'w2vec' is not defined"
          ]
        }
      ]
    },
    {
      "cell_type": "code",
      "metadata": {
        "colab": {
          "base_uri": "https://localhost:8080/"
        },
        "id": "3bhH5QX0e1tp",
        "outputId": "976d90a7-25d8-4bd3-c84d-d13b03fc6607"
      },
      "source": [
        "w2vec.most_similar(positive=['sachin','javagal'], negative=['tendulkar'])"
      ],
      "execution_count": null,
      "outputs": [
        {
          "output_type": "execute_result",
          "data": {
            "text/plain": [
              "[('srinath', 0.8331840634346008),\n",
              " ('ashish', 0.7079203724861145),\n",
              " ('anil', 0.6739010810852051),\n",
              " ('venkatesh', 0.6738511919975281),\n",
              " ('nehra', 0.6694172024726868),\n",
              " ('kuruvilla', 0.6561920046806335),\n",
              " ('cetin', 0.6518576741218567),\n",
              " ('servet', 0.649847686290741),\n",
              " ('gaganjeet', 0.6457865834236145),\n",
              " ('bhullar', 0.6432984471321106)]"
            ]
          },
          "metadata": {
            "tags": []
          },
          "execution_count": 23
        }
      ]
    },
    {
      "cell_type": "code",
      "metadata": {
        "scrolled": false,
        "colab": {
          "base_uri": "https://localhost:8080/"
        },
        "id": "RxswehjZcAhv",
        "outputId": "ee36256a-924f-4e8d-a1a2-f74329aba31f"
      },
      "source": [
        "w2vec.most_similar(positive=['riyadh','india'], negative=['saudi'])"
      ],
      "execution_count": null,
      "outputs": [
        {
          "output_type": "execute_result",
          "data": {
            "text/plain": [
              "[('delhi', 0.9028217196464539),\n",
              " ('lahore', 0.8035391569137573),\n",
              " ('mumbai', 0.7917470335960388),\n",
              " ('ahmedabad', 0.7755643725395203),\n",
              " ('bangalore', 0.7555590867996216),\n",
              " ('karachi', 0.7546167373657227),\n",
              " ('bombay', 0.7437742948532104),\n",
              " ('dhaka', 0.7424519062042236),\n",
              " ('punjab', 0.7350350618362427),\n",
              " ('pradesh', 0.7292831540107727)]"
            ]
          },
          "metadata": {
            "tags": []
          },
          "execution_count": 24
        }
      ]
    },
    {
      "cell_type": "code",
      "metadata": {
        "colab": {
          "base_uri": "https://localhost:8080/"
        },
        "id": "tgoMv2oBcAhv",
        "outputId": "453e7469-c8f5-4157-b3fa-c60904ace322"
      },
      "source": [
        "w2vec.most_similar(positive=['riyadh','pakistan'], negative=['saudi'])"
      ],
      "execution_count": null,
      "outputs": [
        {
          "output_type": "execute_result",
          "data": {
            "text/plain": [
              "[('islamabad', 0.8941248059272766),\n",
              " ('peshawar', 0.8339521884918213),\n",
              " ('rawalpindi', 0.8191450238227844),\n",
              " ('lahore', 0.8046725392341614),\n",
              " ('delhi', 0.8040000796318054),\n",
              " ('karachi', 0.7974010705947876),\n",
              " ('baghdad', 0.7882001996040344),\n",
              " ('kabul', 0.7781498432159424),\n",
              " ('kampala', 0.7772939801216125),\n",
              " ('kandahar', 0.7649247646331787)]"
            ]
          },
          "metadata": {
            "tags": []
          },
          "execution_count": 25
        }
      ]
    },
    {
      "cell_type": "code",
      "metadata": {
        "colab": {
          "base_uri": "https://localhost:8080/"
        },
        "id": "9ub-YzEC3hmx",
        "outputId": "d068d391-5cd5-4d68-b79e-6825b03fd501"
      },
      "source": [
        "from scipy.stats.stats import pearsonr\n",
        "pearsonr(e,f)"
      ],
      "execution_count": null,
      "outputs": [
        {
          "output_type": "execute_result",
          "data": {
            "text/plain": [
              "(0.8790130399273266, 4.705245546111038e-17)"
            ]
          },
          "metadata": {
            "tags": []
          },
          "execution_count": 26
        }
      ]
    },
    {
      "cell_type": "code",
      "metadata": {
        "colab": {
          "base_uri": "https://localhost:8080/"
        },
        "id": "olF6JRiAgHg5",
        "outputId": "bb05c793-a366-4900-a946-c6861da1e3c9"
      },
      "source": [
        "from scipy.stats.stats import pearsonr\n",
        "pearsonr(g,h)"
      ],
      "execution_count": null,
      "outputs": [
        {
          "output_type": "execute_result",
          "data": {
            "text/plain": [
              "(0.6451530228512765, 4.2449909683657265e-07)"
            ]
          },
          "metadata": {
            "tags": []
          },
          "execution_count": 27
        }
      ]
    },
    {
      "cell_type": "markdown",
      "metadata": {
        "id": "WkN9EvVi3hmz"
      },
      "source": [
        "### Finding sentence vectors from word vectors\n"
      ]
    },
    {
      "cell_type": "code",
      "metadata": {
        "id": "NgZZh7Pa3hm0"
      },
      "source": [
        "title1 = \"laws of physics\"\n",
        "title2 = \"theory of relativity\"\n",
        "title3 = \"battle of panipat\""
      ],
      "execution_count": null,
      "outputs": []
    },
    {
      "cell_type": "markdown",
      "metadata": {
        "id": "OhV2e2sT3hm2"
      },
      "source": [
        "#### Assignment: Find vector representation for each title by splitting the title into indivdiual words. Find vector for each word and average them. What's the pearson correlation between different titles?"
      ]
    },
    {
      "cell_type": "code",
      "metadata": {
        "id": "EqF9c1LgwGtm"
      },
      "source": [
        "w1 = w2vec.word_vec(\"laws\")\n",
        "w2 = w2vec.word_vec(\"of\")\n",
        "w3 = w2vec.word_vec(\"physics\")\n",
        "w4 = w2vec.word_vec(\"theory\")\n",
        "w5 = w2vec.word_vec(\"of\")\n",
        "w6 = w2vec.word_vec(\"relativity\")\n",
        "w7 = w2vec.word_vec(\"battle\")\n",
        "w8 = w2vec.word_vec(\"of\")\n",
        "w9 = w2vec.word_vec(\"panipat\")"
      ],
      "execution_count": null,
      "outputs": []
    },
    {
      "cell_type": "code",
      "metadata": {
        "id": "66h-S1PEwry8"
      },
      "source": [
        "title1wv = (w1+w2+w3)/3\n",
        "title2wv = (w4+w5+w6)/3\n",
        "title3wv = (w7+w8+w9)/3"
      ],
      "execution_count": null,
      "outputs": []
    },
    {
      "cell_type": "code",
      "metadata": {
        "colab": {
          "base_uri": "https://localhost:8080/"
        },
        "id": "sfAZpOcts9nY",
        "outputId": "da15ddc5-e41a-409b-cae7-dd8da477603d"
      },
      "source": [
        "title1wv"
      ],
      "execution_count": null,
      "outputs": [
        {
          "output_type": "execute_result",
          "data": {
            "text/plain": [
              "array([-0.41165003,  0.32106668, -0.548472  , -0.14604734, -0.08014334,\n",
              "        0.57921   ,  0.37322664, -0.91621333, -0.05222334,  0.10800999,\n",
              "        0.34717265,  0.19584   , -0.19510369, -0.09276666,  0.13078   ,\n",
              "        0.02793   ,  0.06941167,  0.11746033, -0.28263333, -0.18569799,\n",
              "        0.6268566 , -0.00835667, -0.02554965, -0.31514   ,  0.05773   ,\n",
              "       -1.7224334 , -0.505338  , -0.62672   , -0.25312   ,  0.14738333,\n",
              "        2.6731665 , -0.52106   , -0.79387   , -1.3824034 ,  0.04651667,\n",
              "       -0.14059454, -0.06331   ,  0.31441465,  0.33561668,  0.6332434 ,\n",
              "       -0.31546   , -0.08330967,  0.656381  ,  0.799454  , -0.5040233 ,\n",
              "        0.28109732,  0.25718665,  0.24763334,  0.06121065, -0.43976998],\n",
              "      dtype=float32)"
            ]
          },
          "metadata": {
            "tags": []
          },
          "execution_count": 19
        }
      ]
    },
    {
      "cell_type": "code",
      "metadata": {
        "colab": {
          "base_uri": "https://localhost:8080/"
        },
        "id": "4EBZwhA6xQYP",
        "outputId": "b2ff9bab-a6b5-40f2-9604-69eece4d00d8"
      },
      "source": [
        "pearsonr(title1wv,title2wv)"
      ],
      "execution_count": null,
      "outputs": [
        {
          "output_type": "execute_result",
          "data": {
            "text/plain": [
              "(0.8310371748765593, 8.078782492695916e-14)"
            ]
          },
          "metadata": {
            "tags": []
          },
          "execution_count": 20
        }
      ]
    },
    {
      "cell_type": "code",
      "metadata": {
        "colab": {
          "base_uri": "https://localhost:8080/"
        },
        "id": "axYzLQwOl0mk",
        "outputId": "86fb82f7-1821-46f6-f9ab-429e786a9378"
      },
      "source": [
        "pearsonr(title2wv,title3wv)"
      ],
      "execution_count": null,
      "outputs": [
        {
          "output_type": "execute_result",
          "data": {
            "text/plain": [
              "(0.4834915892035435, 0.0003753148507448383)"
            ]
          },
          "metadata": {
            "tags": []
          },
          "execution_count": 21
        }
      ]
    },
    {
      "cell_type": "markdown",
      "metadata": {
        "id": "tWaFfCoNj4Hz"
      },
      "source": [
        "### Finding similiar books"
      ]
    },
    {
      "cell_type": "code",
      "metadata": {
        "id": "oFFg6e05j4Hz"
      },
      "source": [
        "books_data = pd.read_csv('/gdrive/My Drive/Deep Learning AIML/Statistical NLP/Notebooks/books.csv',encoding=\"latin\")"
      ],
      "execution_count": null,
      "outputs": []
    },
    {
      "cell_type": "code",
      "metadata": {
        "colab": {
          "base_uri": "https://localhost:8080/"
        },
        "id": "Wqyga4X03hm6",
        "outputId": "b8be74c6-fa9e-4d59-c79a-fb44c2e92b0a"
      },
      "source": [
        "books_data.shape"
      ],
      "execution_count": null,
      "outputs": [
        {
          "output_type": "execute_result",
          "data": {
            "text/plain": [
              "(5700, 2)"
            ]
          },
          "metadata": {
            "tags": []
          },
          "execution_count": 35
        }
      ]
    },
    {
      "cell_type": "code",
      "metadata": {
        "colab": {
          "base_uri": "https://localhost:8080/"
        },
        "id": "zGSyQyuY3hm9",
        "outputId": "3f379fab-33af-487d-90a2-e621737dcc9d"
      },
      "source": [
        "books_data.columns"
      ],
      "execution_count": null,
      "outputs": [
        {
          "output_type": "execute_result",
          "data": {
            "text/plain": [
              "Index(['title', 'category'], dtype='object')"
            ]
          },
          "metadata": {
            "tags": []
          },
          "execution_count": 36
        }
      ]
    },
    {
      "cell_type": "code",
      "metadata": {
        "id": "GkHdex0fj4H9"
      },
      "source": [
        "import re\n",
        "books_data[\"title_clean\"] = [re.sub(\"[^a-zA-Z ]\",\"\",x).lower() for x in books_data[\"title\"]]"
      ],
      "execution_count": null,
      "outputs": []
    },
    {
      "cell_type": "code",
      "metadata": {
        "colab": {
          "base_uri": "https://localhost:8080/"
        },
        "id": "Bl_EUgIFj4H_",
        "outputId": "aad47556-5e52-436d-916d-16edf67521f0"
      },
      "source": [
        "from tqdm import tqdm\n",
        "title_vec = np.zeros((books_data.shape[0],50))\n",
        "for i in tqdm(range(0,books_data.shape[0])):\n",
        "    words = books_data[\"title_clean\"].iloc[i].split(\" \")\n",
        "    words = [x.strip() for x in words]\n",
        "    ind_word_vecs = [w2vec.word_vec(x) for x in words if x in w2vec.vocab]\n",
        "    title_vec[i] = np.array(ind_word_vecs).mean(axis=0)"
      ],
      "execution_count": null,
      "outputs": [
        {
          "output_type": "stream",
          "text": [
            "  0%|          | 0/5700 [00:00<?, ?it/s]/usr/local/lib/python3.7/dist-packages/ipykernel_launcher.py:7: RuntimeWarning: Mean of empty slice.\n",
            "  import sys\n",
            "/usr/local/lib/python3.7/dist-packages/numpy/core/_methods.py:170: RuntimeWarning: invalid value encountered in double_scalars\n",
            "  ret = ret.dtype.type(ret / rcount)\n",
            "100%|██████████| 5700/5700 [00:00<00:00, 24449.25it/s]\n"
          ],
          "name": "stderr"
        }
      ]
    },
    {
      "cell_type": "code",
      "metadata": {
        "id": "-4WnrsDtj4IC"
      },
      "source": [
        "title_vec = np.nan_to_num(title_vec)"
      ],
      "execution_count": null,
      "outputs": []
    },
    {
      "cell_type": "code",
      "metadata": {
        "id": "hja1iMtt3hnN"
      },
      "source": [
        "from sklearn.metrics.pairwise import cosine_similarity"
      ],
      "execution_count": null,
      "outputs": []
    },
    {
      "cell_type": "code",
      "metadata": {
        "id": "ZtjIUNzZ3hnP"
      },
      "source": [
        "cosine_sim_titles = cosine_similarity(title_vec)"
      ],
      "execution_count": null,
      "outputs": []
    },
    {
      "cell_type": "code",
      "metadata": {
        "colab": {
          "base_uri": "https://localhost:8080/"
        },
        "id": "KKVfWi0v3hnS",
        "outputId": "47089dce-e72f-45ed-871f-b0093e4c9938"
      },
      "source": [
        "cosine_sim_titles.shape"
      ],
      "execution_count": null,
      "outputs": [
        {
          "output_type": "execute_result",
          "data": {
            "text/plain": [
              "(5700, 5700)"
            ]
          },
          "metadata": {
            "tags": []
          },
          "execution_count": 42
        }
      ]
    },
    {
      "cell_type": "code",
      "metadata": {
        "colab": {
          "base_uri": "https://localhost:8080/",
          "height": 35
        },
        "id": "7J51mnfj3hnU",
        "outputId": "8a5b1275-b4aa-4cd6-98b2-155d1cc54877"
      },
      "source": [
        "# get books similiar to a given title..\n",
        "\n",
        "title_id = 13\n",
        "books_data['title'].iloc[title_id]"
      ],
      "execution_count": null,
      "outputs": [
        {
          "output_type": "execute_result",
          "data": {
            "application/vnd.google.colaboratory.intrinsic+json": {
              "type": "string"
            },
            "text/plain": [
              "'Organ Transplantation (Health and Medical Issues Today)'"
            ]
          },
          "metadata": {
            "tags": []
          },
          "execution_count": 43
        }
      ]
    },
    {
      "cell_type": "code",
      "metadata": {
        "colab": {
          "base_uri": "https://localhost:8080/"
        },
        "id": "1h5H0GOP3hnW",
        "outputId": "5b7aad8c-40d0-4ecd-b0d2-40d28698c30e"
      },
      "source": [
        "### Q: Find the titles with the highest degree of similarity (top 10)\n",
        "top_n_idx = 10\n",
        "top_n_sim_values = cosine_sim_titles[title_id, top_n_idx]\n",
        "top_n_sim_values"
      ],
      "execution_count": null,
      "outputs": [
        {
          "output_type": "execute_result",
          "data": {
            "text/plain": [
              "0.7729226325263809"
            ]
          },
          "metadata": {
            "tags": []
          },
          "execution_count": 44
        }
      ]
    },
    {
      "cell_type": "code",
      "metadata": {
        "colab": {
          "base_uri": "https://localhost:8080/",
          "height": 182
        },
        "id": "YN32gGOB3hnZ",
        "outputId": "a534019e-d882-426e-b023-d2fda719fa54"
      },
      "source": [
        "# find top n with values > 0\n",
        "top_n_idx = top_n_idx[top_n_sim_values > 0]"
      ],
      "execution_count": null,
      "outputs": [
        {
          "output_type": "error",
          "ename": "TypeError",
          "evalue": "ignored",
          "traceback": [
            "\u001b[0;31m---------------------------------------------------------------------------\u001b[0m",
            "\u001b[0;31mTypeError\u001b[0m                                 Traceback (most recent call last)",
            "\u001b[0;32m<ipython-input-44-05b7bd77ab6d>\u001b[0m in \u001b[0;36m<module>\u001b[0;34m()\u001b[0m\n\u001b[1;32m      1\u001b[0m \u001b[0;31m# find top n with values > 0\u001b[0m\u001b[0;34m\u001b[0m\u001b[0;34m\u001b[0m\u001b[0;34m\u001b[0m\u001b[0m\n\u001b[0;32m----> 2\u001b[0;31m \u001b[0mtop_n_idx\u001b[0m \u001b[0;34m=\u001b[0m \u001b[0mtop_n_idx\u001b[0m\u001b[0;34m[\u001b[0m\u001b[0mtop_n_sim_values\u001b[0m \u001b[0;34m>\u001b[0m \u001b[0;36m0\u001b[0m\u001b[0;34m]\u001b[0m\u001b[0;34m\u001b[0m\u001b[0;34m\u001b[0m\u001b[0m\n\u001b[0m",
            "\u001b[0;31mTypeError\u001b[0m: 'int' object is not subscriptable"
          ]
        }
      ]
    },
    {
      "cell_type": "code",
      "metadata": {
        "colab": {
          "base_uri": "https://localhost:8080/",
          "height": 35
        },
        "id": "Eo-lbuRg3hnb",
        "outputId": "80fc4e0b-c911-4ce4-ad18-8e1fe38d4b46"
      },
      "source": [
        "# Matching books\n",
        "books_data['title'].iloc[top_n_idx]"
      ],
      "execution_count": null,
      "outputs": [
        {
          "output_type": "execute_result",
          "data": {
            "application/vnd.google.colaboratory.intrinsic+json": {
              "type": "string"
            },
            "text/plain": [
              "\"Almost Anorexic: Is My (or My Loved One's) Relationship with Food a Problem? (The Almost Effect)\""
            ]
          },
          "metadata": {
            "tags": []
          },
          "execution_count": 27
        }
      ]
    },
    {
      "cell_type": "markdown",
      "metadata": {
        "id": "fb5MFf9r3hnd"
      },
      "source": [
        "<b> Q: find the most similiar books corresponding to title id 34 - \"Shadowrun: Third Edition (FPR25000)\".\n",
        "What issues do you see with the results </b>"
      ]
    },
    {
      "cell_type": "markdown",
      "metadata": {
        "id": "1q5YHhLm3hne"
      },
      "source": [
        "### Using TF IDF with word2vec"
      ]
    },
    {
      "cell_type": "code",
      "metadata": {
        "id": "ksSpbrSQ3hnf"
      },
      "source": [
        "from sklearn.feature_extraction.text import TfidfTransformer\n"
      ],
      "execution_count": null,
      "outputs": []
    },
    {
      "cell_type": "code",
      "metadata": {
        "id": "XNg51sFv3hnh"
      },
      "source": [
        "# initialize vectorizer\n",
        "vect = TfidfVectorizer(ngram_range=(1,2),stop_words='english', max_features=5000)\n"
      ],
      "execution_count": null,
      "outputs": []
    },
    {
      "cell_type": "code",
      "metadata": {
        "id": "eGg0XmCC3hnj"
      },
      "source": [
        "vect.fit(books_data['title_clean'])\n",
        "title_matrix = vect.transform(books_data['title_clean'])"
      ],
      "execution_count": null,
      "outputs": []
    },
    {
      "cell_type": "code",
      "metadata": {
        "id": "EfJl8x_H3hnm"
      },
      "source": [
        "title_matrix = title_matrix.toarray()"
      ],
      "execution_count": null,
      "outputs": []
    },
    {
      "cell_type": "code",
      "metadata": {
        "colab": {
          "base_uri": "https://localhost:8080/",
          "height": 34
        },
        "id": "ROI3eYYA3hnp",
        "outputId": "b0d170ca-d22e-4cb0-b50e-d2488764f617"
      },
      "source": [
        "title_matrix.shape"
      ],
      "execution_count": null,
      "outputs": [
        {
          "output_type": "execute_result",
          "data": {
            "text/plain": [
              "(5700, 5000)"
            ]
          },
          "metadata": {
            "tags": []
          },
          "execution_count": 32
        }
      ]
    },
    {
      "cell_type": "code",
      "metadata": {
        "id": "kUSOeEix3hns"
      },
      "source": [
        "# get tf idf weights\n",
        "idx = 34\n",
        "features = np.where(title_matrix[idx,:] > 0)[0]"
      ],
      "execution_count": null,
      "outputs": []
    },
    {
      "cell_type": "code",
      "metadata": {
        "colab": {
          "base_uri": "https://localhost:8080/",
          "height": 34
        },
        "id": "llqwhfPn3hnu",
        "outputId": "168e55a3-9adc-43f9-bbc1-c0a070bb2b2e"
      },
      "source": [
        "feature_names = [vect.get_feature_names()[x] for x in features]\n",
        "feature_names"
      ],
      "execution_count": null,
      "outputs": [
        {
          "output_type": "execute_result",
          "data": {
            "text/plain": [
              "['edition', 'shadowrun']"
            ]
          },
          "metadata": {
            "tags": []
          },
          "execution_count": 34
        }
      ]
    },
    {
      "cell_type": "markdown",
      "metadata": {
        "id": "m0DkrygP3hnx"
      },
      "source": [
        "#### Find the tf-idf weights of the 2 words. Which word has a higher weightage?"
      ]
    },
    {
      "cell_type": "code",
      "metadata": {
        "colab": {
          "base_uri": "https://localhost:8080/",
          "height": 34
        },
        "id": "_pudnM_13hnx",
        "outputId": "f929a560-27b6-45af-aa18-95f5398ba39d"
      },
      "source": [
        "# feature weights\n",
        "feature_weights = np.array([title_matrix[idx,x] for x in features])[:,np.newaxis]\n",
        "feature_weights.shape"
      ],
      "execution_count": null,
      "outputs": [
        {
          "output_type": "execute_result",
          "data": {
            "text/plain": [
              "(2, 1)"
            ]
          },
          "metadata": {
            "tags": []
          },
          "execution_count": 35
        }
      ]
    },
    {
      "cell_type": "code",
      "metadata": {
        "id": "Y7JE1VJT3hnz"
      },
      "source": [
        "# multiplying tf idf weights with word2vec\n",
        "\n",
        "word_vecs = np.array([w2vec.word_vec(x) if x in w2vec.vocab else np.zeros(50) for x in feature_names])"
      ],
      "execution_count": null,
      "outputs": []
    },
    {
      "cell_type": "code",
      "metadata": {
        "colab": {
          "base_uri": "https://localhost:8080/",
          "height": 34
        },
        "id": "RXn7nn5p3hn1",
        "outputId": "35467ebc-9ec3-44e5-de16-e3024939c300"
      },
      "source": [
        "word_vecs.shape"
      ],
      "execution_count": null,
      "outputs": [
        {
          "output_type": "execute_result",
          "data": {
            "text/plain": [
              "(2, 50)"
            ]
          },
          "metadata": {
            "tags": []
          },
          "execution_count": 37
        }
      ]
    },
    {
      "cell_type": "code",
      "metadata": {
        "id": "fun6qAsV3hn4"
      },
      "source": [
        "res = word_vecs*feature_weights"
      ],
      "execution_count": null,
      "outputs": []
    },
    {
      "cell_type": "code",
      "metadata": {
        "colab": {
          "base_uri": "https://localhost:8080/",
          "height": 34
        },
        "id": "m-50LDcu3hn6",
        "outputId": "63dc679b-fbc9-4907-9f27-1bcebae6e23c"
      },
      "source": [
        "res.shape[0]"
      ],
      "execution_count": null,
      "outputs": [
        {
          "output_type": "execute_result",
          "data": {
            "text/plain": [
              "2"
            ]
          },
          "metadata": {
            "tags": []
          },
          "execution_count": 39
        }
      ]
    },
    {
      "cell_type": "code",
      "metadata": {
        "id": "0_aXscaF3hn8"
      },
      "source": [
        "def get_weighted_vectors(idx):\n",
        "\n",
        "    features = np.where(title_matrix[idx,:] > 0)[0]\n",
        "    feature_names = [vect.get_feature_names()[x] for x in features]\n",
        "    feature_weights = np.array([title_matrix[idx,x] for x in features])[:,np.newaxis]\n",
        "    word_vecs = np.array([w2vec.word_vec(x) if x in w2vec.vocab else np.zeros(50) for x in feature_names])\n",
        "    res = word_vecs*feature_weights\n",
        "    return res.mean(axis=0)\n"
      ],
      "execution_count": null,
      "outputs": []
    },
    {
      "cell_type": "code",
      "metadata": {
        "colab": {
          "base_uri": "https://localhost:8080/",
          "height": 89
        },
        "id": "k8QUMaRM3hn-",
        "outputId": "1a9ca5af-b447-4995-d182-d692cda2f5a9"
      },
      "source": [
        "from tqdm import tqdm\n",
        "title_vec_weighted = np.zeros((books_data.shape[0],50))\n",
        "for i in tqdm(range(0,books_data.shape[0])):\n",
        "    vec = get_weighted_vectors(i)\n",
        "\n",
        "    if vec.shape[0] == 0:\n",
        "        title_vec_weighted[i] = np.zeros(50)\n",
        "    else:\n",
        "        title_vec_weighted[i] = vec"
      ],
      "execution_count": null,
      "outputs": [
        {
          "output_type": "stream",
          "text": [
            "  1%|          | 39/5700 [00:00<01:33, 60.50it/s]/usr/local/lib/python3.6/dist-packages/ipykernel_launcher.py:8: RuntimeWarning: Mean of empty slice.\n",
            "  \n",
            "100%|██████████| 5700/5700 [01:35<00:00, 59.47it/s]\n"
          ],
          "name": "stderr"
        }
      ]
    },
    {
      "cell_type": "code",
      "metadata": {
        "colab": {
          "base_uri": "https://localhost:8080/",
          "height": 35
        },
        "id": "sEYCz7DB3hoA",
        "outputId": "f48c681b-a098-402a-d44b-cbfbc86c3363"
      },
      "source": [
        "title_id=34\n",
        "books_data['title'].iloc[title_id]"
      ],
      "execution_count": null,
      "outputs": [
        {
          "output_type": "execute_result",
          "data": {
            "application/vnd.google.colaboratory.intrinsic+json": {
              "type": "string"
            },
            "text/plain": [
              "'Shadowrun: Third Edition (FPR25000)'"
            ]
          },
          "metadata": {
            "tags": []
          },
          "execution_count": 42
        }
      ]
    },
    {
      "cell_type": "code",
      "metadata": {
        "colab": {
          "base_uri": "https://localhost:8080/",
          "height": 226
        },
        "id": "MuUA5WNj3hoC",
        "outputId": "e2078fc3-46eb-4d5e-e7c4-db3dbeccd70c"
      },
      "source": [
        "\n",
        "cosine_sim_titles_weighted = cosine_similarity(title_vec_weighted)\n",
        "top_n_idx = np.flip(np.argsort(cosine_sim_titles_weighted[title_id,]),axis=0)[0:10]\n",
        "top_n_sim_values = cosine_sim_titles_weighted[title_id, top_n_idx]\n",
        "top_n_sim_values\n",
        "\n",
        "# find top n with values > 0\n",
        "top_n_idx = top_n_idx[top_n_sim_values > 0]\n",
        "# Matching books\n",
        "books_data['title'].iloc[top_n_idx]"
      ],
      "execution_count": null,
      "outputs": [
        {
          "output_type": "execute_result",
          "data": {
            "text/plain": [
              "34      Shadowrun: Third Edition (FPR25000)                                                                                                                                                        \n",
              "4879    Shadowrun 4th Edition                                                                                                                                                                      \n",
              "2795    Shadowrun Unwired (Shadowrun (Catalyst Hardcover))                                                                                                                                         \n",
              "4660    Rigger 2: A Shadowrun Sourcebook                                                                                                                                                           \n",
              "3956    Minecraft Pocket Edition: The Minecraft Pocket Edition Essentials Handbook Guide to Minecraft (An Unofficial Minecraft Pocket Edition Handbook) ... edition, minecraft handbook, minecraft)\n",
              "274     Sixth World Almanac (Shadowrun (Catalyst Hardcover))                                                                                                                                       \n",
              "4380    The Battletech Compendium                                                                                                                                                                  \n",
              "2082    Street Legends (Shadowrun (Catalyst Hardcover))                                                                                                                                            \n",
              "5167    Mob War! (Shadowrun, FAS7326)                                                                                                                                                              \n",
              "3985    Battletech Handbook: House Liao: A Faction Sourcebook (Battletech (Unnumbered))                                                                                                            \n",
              "Name: title, dtype: object"
            ]
          },
          "metadata": {
            "tags": []
          },
          "execution_count": 43
        }
      ]
    },
    {
      "cell_type": "code",
      "metadata": {
        "id": "dQ9FzwHT3hoE"
      },
      "source": [],
      "execution_count": null,
      "outputs": []
    }
  ]
}