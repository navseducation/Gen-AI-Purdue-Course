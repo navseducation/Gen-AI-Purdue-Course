{
  "nbformat": 4,
  "nbformat_minor": 0,
  "metadata": {
    "colab": {
      "provenance": [],
      "authorship_tag": "ABX9TyPuizmotGw9p6aeGmVe65y+",
      "include_colab_link": true
    },
    "kernelspec": {
      "name": "python3",
      "display_name": "Python 3"
    },
    "language_info": {
      "name": "python"
    }
  },
  "cells": [
    {
      "cell_type": "markdown",
      "metadata": {
        "id": "view-in-github",
        "colab_type": "text"
      },
      "source": [
        "<a href=\"https://colab.research.google.com/github/navseducation/Gen-AI-Purdue-Course/blob/main/Untitled7.ipynb\" target=\"_parent\"><img src=\"https://colab.research.google.com/assets/colab-badge.svg\" alt=\"Open In Colab\"/></a>"
      ]
    },
    {
      "cell_type": "code",
      "execution_count": null,
      "metadata": {
        "id": "aYVcSDefptuv"
      },
      "outputs": [],
      "source": []
    },
    {
      "cell_type": "code",
      "source": [
        "# prompt: Problem Statement:\n",
        "# In today’s world, individuals often need to keep track of various tasks in a structured\n",
        "# way. You are tasked with building a Task Manager that allows users to manage their\n",
        "# tasks. The system should include user authentication, meaning each user has to log\n",
        "# in with a username and password. Once logged in, users can create, view, update,\n",
        "# and delete their tasks. Each user’s tasks should be stored separately, and only the\n",
        "# authenticated user can access their tasks.\n",
        "# Objectives:\n",
        "# 1. Design and implement a user authentication system (login and registration)\n",
        "# 2. Create a task management system that allows users to:\n",
        "# a. Add, view, mark as completed, and delete tasks\n",
        "# 3. Use file handling to store user credentials and tasks persistently\n",
        "# 4. Create an interactive menu-driven interface to manage tasks\n",
        "# Steps to Perform:\n",
        "# 1. User Authentication:\n",
        "# • Registration:\n",
        "# o Create a function to prompt the user to enter a username and\n",
        "# password\n",
        "# o Ensure that the username is unique, and hash the password for\n",
        "# security before storing it in a file\n",
        "# • Login:\n",
        "# o Create a function to prompt the user for their username and\n",
        "# password, validate the credentials by comparing them with the stored\n",
        "# data, and grant access to the task manager upon successful login\n",
        "# 2. Add a Task:\n",
        "# • Create a function that prompts the user for a task description. Assign a\n",
        "# unique task ID and set the status to Pending\n",
        "# • Store the task in a file, and confirm that the task was added\n",
        "# 3. View Tasks:\n",
        "# • Create a function to retrieve and display all tasks for the logged-in user\n",
        "# • Each task should show the task ID, description, and status (Pending or\n",
        "# Completed)\n",
        "# 4. Mark a Task as Completed:\n",
        "# • Create a function that allows the user to select a task by its ID and update\n",
        "# its status to Completed\n",
        "# 5. Delete a Task:\n",
        "# • Create a function that allows the user to select a task by its ID and delete\n",
        "# it from their task list\n",
        "# 6. Create an Interactive Menu:\n",
        "# • Build a menu that allows users to choose between:\n",
        "\n",
        "import json\n",
        "import hashlib\n",
        "import os\n",
        "\n",
        "# File paths\n",
        "USERS_FILE = 'users.json'\n",
        "TASKS_FILE = 'tasks.json'\n",
        "\n",
        "# --- Helper Functions for File Handling ---\n",
        "\n",
        "def load_data(filepath):\n",
        "    \"\"\"Loads data from a JSON file.\"\"\"\n",
        "    if not os.path.exists(filepath):\n",
        "        return {}\n",
        "    with open(filepath, 'r') as f:\n",
        "        try:\n",
        "            return json.load(f)\n",
        "        except json.JSONDecodeError:\n",
        "            return {}\n",
        "\n",
        "def save_data(filepath, data):\n",
        "    \"\"\"Saves data to a JSON file.\"\"\"\n",
        "    with open(filepath, 'w') as f:\n",
        "        json.dump(data, f, indent=2)\n",
        "\n",
        "# --- User Authentication ---\n",
        "\n",
        "def hash_password(password):\n",
        "    \"\"\"Hashes a password using SHA-256.\"\"\"\n",
        "    return hashlib.sha256(password.encode()).hexdigest()\n",
        "\n",
        "def register_user():\n",
        "    \"\"\"Registers a new user.\"\"\"\n",
        "    users = load_data(USERS_FILE)\n",
        "\n",
        "    while True:\n",
        "        username = input(\"Enter username: \")\n",
        "        if username in users:\n",
        "            print(\"Username already exists. Please choose another.\")\n",
        "        else:\n",
        "            break\n",
        "\n",
        "    password = input(\"Enter password: \")\n",
        "    hashed_password = hash_password(password)\n",
        "\n",
        "    users[username] = {'password': hashed_password}\n",
        "    save_data(USERS_FILE, users)\n",
        "    print(\"User registered successfully!\")\n",
        "\n",
        "def login_user():\n",
        "    \"\"\"Logs in an existing user.\"\"\"\n",
        "    users = load_data(USERS_FILE)\n",
        "\n",
        "    username = input(\"Enter username: \")\n",
        "    password = input(\"Enter password: \")\n",
        "    hashed_password = hash_password(password)\n",
        "\n",
        "    if username in users and users[username]['password'] == hashed_password:\n",
        "        print(f\"Welcome, {username}!\")\n",
        "        return username\n",
        "    else:\n",
        "        print(\"Invalid username or password.\")\n",
        "        return None\n",
        "\n",
        "# --- Task Management ---\n",
        "\n",
        "def add_task(username):\n",
        "    \"\"\"Adds a new task for the logged-in user.\"\"\"\n",
        "    tasks = load_data(TASKS_FILE)\n",
        "\n",
        "    if username not in tasks:\n",
        "        tasks[username] = []\n",
        "\n",
        "    task_description = input(\"Enter task description: \")\n",
        "    task_id = len(tasks[username]) + 1 # Simple incremental ID\n",
        "    tasks[username].append({'id': task_id, 'description': task_description, 'status': 'Pending'})\n",
        "\n",
        "    save_data(TASKS_FILE, tasks)\n",
        "    print(\"Task added successfully!\")\n",
        "\n",
        "def view_tasks(username):\n",
        "    \"\"\"Displays all tasks for the logged-in user.\"\"\"\n",
        "    tasks = load_data(TASKS_FILE)\n",
        "\n",
        "    if username not in tasks or not tasks[username]:\n",
        "        print(\"No tasks found for this user.\")\n",
        "        return\n",
        "\n",
        "    print(\"\\n--- Your Tasks ---\")\n",
        "    for task in tasks[username]:\n",
        "        print(f\"ID: {task['id']}, Description: {task['description']}, Status: {task['status']}\")\n",
        "    print(\"-----------------\")\n",
        "\n",
        "def mark_task_completed(username):\n",
        "    \"\"\"Marks a task as completed.\"\"\"\n",
        "    tasks = load_data(TASKS_FILE)\n",
        "\n",
        "    if username not in tasks or not tasks[username]:\n",
        "        print(\"No tasks found to mark as completed.\")\n",
        "        return\n",
        "\n",
        "    view_tasks(username)\n",
        "    try:\n",
        "        task_id_to_complete = int(input(\"Enter the ID of the task to mark as completed: \"))\n",
        "        found = False\n",
        "        for task in tasks[username]:\n",
        "            if task['id'] == task_id_to_complete:\n",
        "                task['status'] = 'Completed'\n",
        "                found = True\n",
        "                break\n",
        "        if found:\n",
        "            save_data(TASKS_FILE, tasks)\n",
        "            print(f\"Task {task_id_to_complete} marked as completed.\")\n",
        "        else:\n",
        "            print(\"Task ID not found.\")\n",
        "    except ValueError:\n",
        "        print(\"Invalid input. Please enter a number.\")\n",
        "\n",
        "\n",
        "def delete_task(username):\n",
        "    \"\"\"Deletes a task.\"\"\"\n",
        "    tasks = load_data(TASKS_FILE)\n",
        "\n",
        "    if username not in tasks or not tasks[username]:\n",
        "        print(\"No tasks found to delete.\")\n",
        "        return\n",
        "\n",
        "    view_tasks(username)\n",
        "    try:\n",
        "        task_id_to_delete = int(input(\"Enter the ID of the task to delete: \"))\n",
        "        initial_task_count = len(tasks[username])\n",
        "        tasks[username] = [task for task in tasks[username] if task['id'] != task_id_to_delete]\n",
        "\n",
        "        if len(tasks[username]) < initial_task_count:\n",
        "            # Re-index tasks after deletion to maintain sequential IDs (optional)\n",
        "            for i, task in enumerate(tasks[username]):\n",
        "              task['id'] = i + 1\n",
        "            save_data(TASCALES_FILE, tasks)\n",
        "            print(f\"Task {task_id_to_delete} deleted.\")\n",
        "        else:\n",
        "            print(\"Task ID not found.\")\n",
        "    except ValueError:\n",
        "        print(\"Invalid input. Please enter a number.\")\n",
        "\n",
        "\n",
        "# --- Main Menu ---\n",
        "\n",
        "def main_menu(username):\n",
        "    \"\"\"Displays the main task management menu.\"\"\"\n",
        "    while True:\n",
        "        print(\"\\n--- Task Manager Menu ---\")\n",
        "        print(\"1. Add Task\")\n",
        "        print(\"2. View Tasks\")\n",
        "        print(\"3. Mark Task as Completed\")\n",
        "        print(\"4. Delete Task\")\n",
        "        print(\"5. Logout\")\n",
        "        print(\"-----------------------\")\n",
        "\n",
        "        choice = input(\"Enter your choice: \")\n",
        "\n",
        "        if choice == '1':\n",
        "            add_task(username)\n",
        "        elif choice == '2':\n",
        "            view_tasks(username)\n",
        "        elif choice == '3':\n",
        "            mark_task_completed(username)\n",
        "        elif choice == '4':\n",
        "            delete_task(username)\n",
        "        elif choice == '5':\n",
        "            print(\"Logging out...\")\n",
        "            break\n",
        "        else:\n",
        "            print(\"Invalid choice. Please try again.\")\n",
        "\n",
        "# --- Entry Point ---\n",
        "\n",
        "def run_task_manager():\n",
        "    \"\"\"Runs the main task manager application.\"\"\"\n",
        "    while True:\n",
        "        print(\"\\n--- Welcome to Task Manager ---\")\n",
        "        print(\"1. Register\")\n",
        "        print(\"2. Login\")\n",
        "        print(\"3. Exit\")\n",
        "        print(\"-----------------------------\")\n",
        "\n",
        "        choice = input(\"Enter your choice: \")\n",
        "\n",
        "        if choice == '1':\n",
        "            register_user()\n",
        "        elif choice == '2':\n",
        "            logged_in_user = login_user()\n",
        "            if logged_in_user:\n",
        "                main_menu(logged_in_user)\n",
        "        elif choice == '3':\n",
        "            print(\"Exiting Task Manager. Goodbye!\")\n",
        "            break\n",
        "        else:\n",
        "            print(\"Invalid choice. Please try again.\")\n",
        "\n",
        "# Run the application\n",
        "run_task_manager()\n"
      ],
      "metadata": {
        "colab": {
          "base_uri": "https://localhost:8080/",
          "height": 1000
        },
        "id": "cOneFm44py8K",
        "outputId": "063a9624-4cd9-4b61-df20-8abb99c6eadd"
      },
      "execution_count": 4,
      "outputs": [
        {
          "output_type": "stream",
          "name": "stdout",
          "text": [
            "\n",
            "--- Welcome to Task Manager ---\n",
            "1. Register\n",
            "2. Login\n",
            "3. Exit\n",
            "-----------------------------\n",
            "Enter your choice: 1\n",
            "Enter username: mon\n",
            "Enter password: mon\n",
            "User registered successfully!\n",
            "\n",
            "--- Welcome to Task Manager ---\n",
            "1. Register\n",
            "2. Login\n",
            "3. Exit\n",
            "-----------------------------\n",
            "Enter your choice: 2\n",
            "Enter username: mon\n",
            "Enter password: mon\n",
            "Welcome, mon!\n",
            "\n",
            "--- Task Manager Menu ---\n",
            "1. Add Task\n",
            "2. View Tasks\n",
            "3. Mark Task as Completed\n",
            "4. Delete Task\n",
            "5. Logout\n",
            "-----------------------\n",
            "Enter your choice: 1\n",
            "Enter task description: work\n",
            "Task added successfully!\n",
            "\n",
            "--- Task Manager Menu ---\n",
            "1. Add Task\n",
            "2. View Tasks\n",
            "3. Mark Task as Completed\n",
            "4. Delete Task\n",
            "5. Logout\n",
            "-----------------------\n",
            "Enter your choice: 3\n",
            "\n",
            "--- Your Tasks ---\n",
            "ID: 1, Description: work, Status: Pending\n",
            "-----------------\n",
            "Enter the ID of the task to mark as completed: 2\n",
            "Task ID not found.\n",
            "\n",
            "--- Task Manager Menu ---\n",
            "1. Add Task\n",
            "2. View Tasks\n",
            "3. Mark Task as Completed\n",
            "4. Delete Task\n",
            "5. Logout\n",
            "-----------------------\n"
          ]
        },
        {
          "output_type": "error",
          "ename": "KeyboardInterrupt",
          "evalue": "Interrupted by user",
          "traceback": [
            "\u001b[0;31m---------------------------------------------------------------------------\u001b[0m",
            "\u001b[0;31mKeyboardInterrupt\u001b[0m                         Traceback (most recent call last)",
            "\u001b[0;32m/tmp/ipython-input-4-1046511155.py\u001b[0m in \u001b[0;36m<cell line: 0>\u001b[0;34m()\u001b[0m\n\u001b[1;32m     52\u001b[0m \u001b[0;34m\u001b[0m\u001b[0m\n\u001b[1;32m     53\u001b[0m \u001b[0;31m# Run the application\u001b[0m\u001b[0;34m\u001b[0m\u001b[0;34m\u001b[0m\u001b[0m\n\u001b[0;32m---> 54\u001b[0;31m \u001b[0mrun_task_manager\u001b[0m\u001b[0;34m(\u001b[0m\u001b[0;34m)\u001b[0m\u001b[0;34m\u001b[0m\u001b[0;34m\u001b[0m\u001b[0m\n\u001b[0m",
            "\u001b[0;32m/tmp/ipython-input-4-1046511155.py\u001b[0m in \u001b[0;36mrun_task_manager\u001b[0;34m()\u001b[0m\n\u001b[1;32m     44\u001b[0m             \u001b[0mlogged_in_user\u001b[0m \u001b[0;34m=\u001b[0m \u001b[0mlogin_user\u001b[0m\u001b[0;34m(\u001b[0m\u001b[0;34m)\u001b[0m\u001b[0;34m\u001b[0m\u001b[0;34m\u001b[0m\u001b[0m\n\u001b[1;32m     45\u001b[0m             \u001b[0;32mif\u001b[0m \u001b[0mlogged_in_user\u001b[0m\u001b[0;34m:\u001b[0m\u001b[0;34m\u001b[0m\u001b[0;34m\u001b[0m\u001b[0m\n\u001b[0;32m---> 46\u001b[0;31m                 \u001b[0mmain_menu\u001b[0m\u001b[0;34m(\u001b[0m\u001b[0mlogged_in_user\u001b[0m\u001b[0;34m)\u001b[0m\u001b[0;34m\u001b[0m\u001b[0;34m\u001b[0m\u001b[0m\n\u001b[0m\u001b[1;32m     47\u001b[0m         \u001b[0;32melif\u001b[0m \u001b[0mchoice\u001b[0m \u001b[0;34m==\u001b[0m \u001b[0;34m'3'\u001b[0m\u001b[0;34m:\u001b[0m\u001b[0;34m\u001b[0m\u001b[0;34m\u001b[0m\u001b[0m\n\u001b[1;32m     48\u001b[0m             \u001b[0mprint\u001b[0m\u001b[0;34m(\u001b[0m\u001b[0;34m\"Exiting Task Manager. Goodbye!\"\u001b[0m\u001b[0;34m)\u001b[0m\u001b[0;34m\u001b[0m\u001b[0;34m\u001b[0m\u001b[0m\n",
            "\u001b[0;32m/tmp/ipython-input-4-1046511155.py\u001b[0m in \u001b[0;36mmain_menu\u001b[0;34m(username)\u001b[0m\n\u001b[1;32m     10\u001b[0m         \u001b[0mprint\u001b[0m\u001b[0;34m(\u001b[0m\u001b[0;34m\"-----------------------\"\u001b[0m\u001b[0;34m)\u001b[0m\u001b[0;34m\u001b[0m\u001b[0;34m\u001b[0m\u001b[0m\n\u001b[1;32m     11\u001b[0m \u001b[0;34m\u001b[0m\u001b[0m\n\u001b[0;32m---> 12\u001b[0;31m         \u001b[0mchoice\u001b[0m \u001b[0;34m=\u001b[0m \u001b[0minput\u001b[0m\u001b[0;34m(\u001b[0m\u001b[0;34m\"Enter your choice: \"\u001b[0m\u001b[0;34m)\u001b[0m\u001b[0;34m\u001b[0m\u001b[0;34m\u001b[0m\u001b[0m\n\u001b[0m\u001b[1;32m     13\u001b[0m \u001b[0;34m\u001b[0m\u001b[0m\n\u001b[1;32m     14\u001b[0m         \u001b[0;32mif\u001b[0m \u001b[0mchoice\u001b[0m \u001b[0;34m==\u001b[0m \u001b[0;34m'1'\u001b[0m\u001b[0;34m:\u001b[0m\u001b[0;34m\u001b[0m\u001b[0;34m\u001b[0m\u001b[0m\n",
            "\u001b[0;32m/usr/local/lib/python3.11/dist-packages/ipykernel/kernelbase.py\u001b[0m in \u001b[0;36mraw_input\u001b[0;34m(self, prompt)\u001b[0m\n\u001b[1;32m   1175\u001b[0m                 \u001b[0;34m\"raw_input was called, but this frontend does not support input requests.\"\u001b[0m\u001b[0;34m\u001b[0m\u001b[0;34m\u001b[0m\u001b[0m\n\u001b[1;32m   1176\u001b[0m             )\n\u001b[0;32m-> 1177\u001b[0;31m         return self._input_request(\n\u001b[0m\u001b[1;32m   1178\u001b[0m             \u001b[0mstr\u001b[0m\u001b[0;34m(\u001b[0m\u001b[0mprompt\u001b[0m\u001b[0;34m)\u001b[0m\u001b[0;34m,\u001b[0m\u001b[0;34m\u001b[0m\u001b[0;34m\u001b[0m\u001b[0m\n\u001b[1;32m   1179\u001b[0m             \u001b[0mself\u001b[0m\u001b[0;34m.\u001b[0m\u001b[0m_parent_ident\u001b[0m\u001b[0;34m[\u001b[0m\u001b[0;34m\"shell\"\u001b[0m\u001b[0;34m]\u001b[0m\u001b[0;34m,\u001b[0m\u001b[0;34m\u001b[0m\u001b[0;34m\u001b[0m\u001b[0m\n",
            "\u001b[0;32m/usr/local/lib/python3.11/dist-packages/ipykernel/kernelbase.py\u001b[0m in \u001b[0;36m_input_request\u001b[0;34m(self, prompt, ident, parent, password)\u001b[0m\n\u001b[1;32m   1217\u001b[0m             \u001b[0;32mexcept\u001b[0m \u001b[0mKeyboardInterrupt\u001b[0m\u001b[0;34m:\u001b[0m\u001b[0;34m\u001b[0m\u001b[0;34m\u001b[0m\u001b[0m\n\u001b[1;32m   1218\u001b[0m                 \u001b[0;31m# re-raise KeyboardInterrupt, to truncate traceback\u001b[0m\u001b[0;34m\u001b[0m\u001b[0;34m\u001b[0m\u001b[0m\n\u001b[0;32m-> 1219\u001b[0;31m                 \u001b[0;32mraise\u001b[0m \u001b[0mKeyboardInterrupt\u001b[0m\u001b[0;34m(\u001b[0m\u001b[0;34m\"Interrupted by user\"\u001b[0m\u001b[0;34m)\u001b[0m \u001b[0;32mfrom\u001b[0m \u001b[0;32mNone\u001b[0m\u001b[0;34m\u001b[0m\u001b[0;34m\u001b[0m\u001b[0m\n\u001b[0m\u001b[1;32m   1220\u001b[0m             \u001b[0;32mexcept\u001b[0m \u001b[0mException\u001b[0m\u001b[0;34m:\u001b[0m\u001b[0;34m\u001b[0m\u001b[0;34m\u001b[0m\u001b[0m\n\u001b[1;32m   1221\u001b[0m                 \u001b[0mself\u001b[0m\u001b[0;34m.\u001b[0m\u001b[0mlog\u001b[0m\u001b[0;34m.\u001b[0m\u001b[0mwarning\u001b[0m\u001b[0;34m(\u001b[0m\u001b[0;34m\"Invalid Message:\"\u001b[0m\u001b[0;34m,\u001b[0m \u001b[0mexc_info\u001b[0m\u001b[0;34m=\u001b[0m\u001b[0;32mTrue\u001b[0m\u001b[0;34m)\u001b[0m\u001b[0;34m\u001b[0m\u001b[0;34m\u001b[0m\u001b[0m\n",
            "\u001b[0;31mKeyboardInterrupt\u001b[0m: Interrupted by user"
          ]
        }
      ]
    },
    {
      "cell_type": "code",
      "source": [
        "fixed = [10,20,30,40,50]\n",
        "variable = [100,200,300,400,500]\n",
        "total = fixed+variable\n",
        "#print(total)"
      ],
      "metadata": {
        "colab": {
          "base_uri": "https://localhost:8080/"
        },
        "id": "NApp_XZexzl_",
        "outputId": "7aed2d5f-cd94-41f9-e3d0-d648d5272158"
      },
      "execution_count": 5,
      "outputs": [
        {
          "output_type": "stream",
          "name": "stdout",
          "text": [
            "[10, 20, 30, 40, 50, 100, 200, 300, 400, 500]\n"
          ]
        }
      ]
    },
    {
      "cell_type": "code",
      "source": [
        "import numpy as np\n",
        "fixed = np.array([10,20,30,40,50])\n",
        "variable = np.array([100,200,300,400,500])\n",
        "np.median(fixed)\n",
        "total = fixed+variable\n",
        "print(total)"
      ],
      "metadata": {
        "colab": {
          "base_uri": "https://localhost:8080/"
        },
        "id": "pS_yWcYCyTWb",
        "outputId": "443cccd4-b377-4001-f051-a1ceb0cf1f3c"
      },
      "execution_count": 7,
      "outputs": [
        {
          "output_type": "stream",
          "name": "stdout",
          "text": [
            "[110 220 330 440 550]\n"
          ]
        }
      ]
    },
    {
      "cell_type": "code",
      "source": [
        "create a dataframe with 2 columns\n"
      ],
      "metadata": {
        "colab": {
          "base_uri": "https://localhost:8080/",
          "height": 106
        },
        "id": "46eY-gHOzgfp",
        "outputId": "aa82a3b7-15e4-4275-a8e2-fbee48bb322e"
      },
      "execution_count": 8,
      "outputs": [
        {
          "output_type": "error",
          "ename": "SyntaxError",
          "evalue": "invalid syntax (ipython-input-8-2586385385.py, line 1)",
          "traceback": [
            "\u001b[0;36m  File \u001b[0;32m\"/tmp/ipython-input-8-2586385385.py\"\u001b[0;36m, line \u001b[0;32m1\u001b[0m\n\u001b[0;31m    create a dataframe with 2 columns\u001b[0m\n\u001b[0m           ^\u001b[0m\n\u001b[0;31mSyntaxError\u001b[0m\u001b[0;31m:\u001b[0m invalid syntax\n"
          ]
        }
      ]
    },
    {
      "cell_type": "code",
      "metadata": {
        "colab": {
          "base_uri": "https://localhost:8080/"
        },
        "id": "83bce19b",
        "outputId": "bf322ed7-4930-45e8-c72c-085a95ec2fd8"
      },
      "source": [
        "import pandas as pd\n",
        "\n",
        "data = {'col1': [1, 2, 3], 'col2': ['A', 'B', 'C']}\n",
        "df = pd.DataFrame(data)\n",
        "print(df)"
      ],
      "execution_count": 10,
      "outputs": [
        {
          "output_type": "stream",
          "name": "stdout",
          "text": [
            "   col1 col2\n",
            "0     1    A\n",
            "1     2    B\n",
            "2     3    C\n"
          ]
        }
      ]
    }
  ]
}