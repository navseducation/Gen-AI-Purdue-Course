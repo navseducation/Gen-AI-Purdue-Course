{
  "nbformat": 4,
  "nbformat_minor": 0,
  "metadata": {
    "colab": {
      "provenance": [],
      "authorship_tag": "ABX9TyPOxCeVKja0COKCS+VmX3MT",
      "include_colab_link": true
    },
    "kernelspec": {
      "name": "python3",
      "display_name": "Python 3"
    },
    "language_info": {
      "name": "python"
    }
  },
  "cells": [
    {
      "cell_type": "markdown",
      "metadata": {
        "id": "view-in-github",
        "colab_type": "text"
      },
      "source": [
        "<a href=\"https://colab.research.google.com/github/navseducation/Gen-AI-Purdue-Course/blob/main/Untitled8.ipynb\" target=\"_parent\"><img src=\"https://colab.research.google.com/assets/colab-badge.svg\" alt=\"Open In Colab\"/></a>"
      ]
    },
    {
      "cell_type": "code",
      "source": [
        "print(\"HELLO WORLD\");"
      ],
      "metadata": {
        "colab": {
          "base_uri": "https://localhost:8080/"
        },
        "id": "Knf59RwTDVNY",
        "outputId": "dd032a11-a971-4337-ea6b-47e75e27fed2"
      },
      "execution_count": 3,
      "outputs": [
        {
          "output_type": "stream",
          "name": "stdout",
          "text": [
            "HELLO WORLD\n"
          ]
        }
      ]
    },
    {
      "cell_type": "code",
      "source": [],
      "metadata": {
        "id": "FTGRzIyqD5IG"
      },
      "execution_count": null,
      "outputs": []
    },
    {
      "cell_type": "code",
      "metadata": {
        "colab": {
          "base_uri": "https://localhost:8080/"
        },
        "id": "8840ca21",
        "outputId": "a644f6e3-e715-4ed8-b1c7-1bbc26d74873"
      },
      "source": [
        "from datetime import date\n",
        "\n",
        "today = date.today()\n",
        "\n",
        "year = int(input(\"Enter the year of your birthday (YYYY): \"))\n",
        "month = int(input(\"Enter the month of your birthday (MM): \"))\n",
        "day = int(input(\"Enter the day of your birthday (DD): \"))\n",
        "\n",
        "birthday = date(year, month, day)\n",
        "\n",
        "delta = birthday - today\n",
        "\n",
        "print(f\"There are {delta.days} days between today and your birthday.\")"
      ],
      "execution_count": 6,
      "outputs": [
        {
          "output_type": "stream",
          "name": "stdout",
          "text": [
            "Enter the year of your birthday (YYYY): 2025\n",
            "Enter the month of your birthday (MM): 08\n",
            "Enter the day of your birthday (DD): 28\n",
            "There are 36 days between today and your birthday.\n"
          ]
        }
      ]
    }
  ]
}