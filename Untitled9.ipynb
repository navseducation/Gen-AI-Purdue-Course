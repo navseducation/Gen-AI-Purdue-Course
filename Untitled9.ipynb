{
  "nbformat": 4,
  "nbformat_minor": 0,
  "metadata": {
    "colab": {
      "provenance": [],
      "authorship_tag": "ABX9TyOgVJp0Lwgx6Gm/fGqScW0p",
      "include_colab_link": true
    },
    "kernelspec": {
      "name": "python3",
      "display_name": "Python 3"
    },
    "language_info": {
      "name": "python"
    }
  },
  "cells": [
    {
      "cell_type": "markdown",
      "metadata": {
        "id": "view-in-github",
        "colab_type": "text"
      },
      "source": [
        "<a href=\"https://colab.research.google.com/github/navseducation/Gen-AI-Purdue-Course/blob/main/Untitled9.ipynb\" target=\"_parent\"><img src=\"https://colab.research.google.com/assets/colab-badge.svg\" alt=\"Open In Colab\"/></a>"
      ]
    },
    {
      "cell_type": "code",
      "execution_count": 1,
      "metadata": {
        "id": "sLptPR62bSPA"
      },
      "outputs": [],
      "source": [
        "### START CODE HERE ###\n",
        "\n",
        "# Store the title of the book `Brave New World` as a string\n",
        "book_title = \"Brave New World\"\n",
        "\n",
        "# Store the author `Aldous Huxley` of the book as a string\n",
        "author = \"Aldous Huxley\"\n",
        "\n",
        "# Store the year `1932` the book was published as an integer\n",
        "year_published = 1932\n",
        "\n",
        "# Store the number of available copies `4` of the book as an integer\n",
        "available_copies = 4\n",
        "\n",
        "### END CODE HERE ###"
      ]
    },
    {
      "cell_type": "code",
      "source": [
        "### START CODE HERE ###\n",
        "\n",
        "# Print the Title: `book_title` using an f-string\n",
        "print(f\"Title: {book_title}\")\n",
        "\n",
        "# Print the Author: `author` using an f-string\n",
        "print(f\"Author: {author}\")\n",
        "\n",
        "# Print Published: `year_published` using an f-string\n",
        "print(f\"Published: {year_published}\")\n",
        "\n",
        "# Print Available Copies: `available_copies` using an f-string\n",
        "print(f\"Available Copies: {available_copies}\")\n",
        "\n",
        "### END CODE HERE ###"
      ],
      "metadata": {
        "colab": {
          "base_uri": "https://localhost:8080/"
        },
        "id": "AUlOrD8obbM1",
        "outputId": "09546e99-623a-42a0-a4fc-a4ae12c67f6b"
      },
      "execution_count": 2,
      "outputs": [
        {
          "output_type": "stream",
          "name": "stdout",
          "text": [
            "Title: Brave New World\n",
            "Author: Aldous Huxley\n",
            "Published: 1932\n",
            "Available Copies: 4\n"
          ]
        }
      ]
    },
    {
      "cell_type": "code",
      "source": [
        "available_copies = 4 ### DO NOT EDIT OR REMOVE THIS CODE LINE\n",
        "\n",
        "### START CODE HERE ###\n",
        "\n",
        "# 1. Reduce the number of \"available_copies\" by a value of 1\n",
        "available_copies = available_copies - 1\n",
        "\n",
        "# 2. Print the message, confirming the checkout. Use multi-line f-string\n",
        "# In your print statment, use \"book_title\" you implemented in exercise 1\n",
        "# Use \"available_copies\" you calculated above\n",
        "print(f\"\"\"\n",
        "One copy of {book_title} checked out. There are now {available_copies} copies available\n",
        "\"\"\")\n",
        "\n",
        "### END CODE HERE ###"
      ],
      "metadata": {
        "colab": {
          "base_uri": "https://localhost:8080/"
        },
        "id": "4l48imZgdOTP",
        "outputId": "bf4741e7-7242-48de-d8b3-250e891a231a"
      },
      "execution_count": 5,
      "outputs": [
        {
          "output_type": "stream",
          "name": "stdout",
          "text": [
            "\n",
            "One copy of Brave New World checked out. There are now 3 copies available\n",
            "\n"
          ]
        }
      ]
    },
    {
      "cell_type": "code",
      "source": [
        "### START CODE HERE ###\n",
        "\n",
        "# 1. Store the name of the book `To Kill a Mockingbird` in a variable called `requested_book`\n",
        "requested_book = \"To Kill a Mockingbird\"\n",
        "\n",
        "# 2. Print the message using multi-line f-string\n",
        "print(f\"\"\"{requested_book} is currently unavailable. You can request it from the library\"\"\")\n",
        "\n",
        "### END CODE HERE ###"
      ],
      "metadata": {
        "colab": {
          "base_uri": "https://localhost:8080/"
        },
        "id": "hSrg_Oz-ezgu",
        "outputId": "86b77557-4687-4a2c-ed09-47e09c53bc64"
      },
      "execution_count": 6,
      "outputs": [
        {
          "output_type": "stream",
          "name": "stdout",
          "text": [
            "To Kill a Mockingbird is currently unavailable. You can request it from the library\n"
          ]
        }
      ]
    }
  ]
}